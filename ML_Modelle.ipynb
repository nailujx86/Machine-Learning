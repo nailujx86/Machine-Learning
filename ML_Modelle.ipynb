{
  "nbformat": 4,
  "nbformat_minor": 0,
  "metadata": {
    "colab": {
      "name": "ML_Modelle.ipynb",
      "provenance": [],
      "collapsed_sections": [
        "bgN9VMgSO-wM"
      ]
    },
    "kernelspec": {
      "name": "python3",
      "display_name": "Python 3"
    }
  },
  "cells": [
    {
      "cell_type": "markdown",
      "metadata": {
        "id": "ZlomBgyv7PD-"
      },
      "source": [
        "# ML Modelle:\r\n",
        "In der folgenden Aufgabe handelt es sich um eine Klassifikationsaufgabe."
      ]
    },
    {
      "cell_type": "markdown",
      "metadata": {
        "id": "_QoweMIF-WgM"
      },
      "source": [
        "## Datenmanagement\n"
      ]
    },
    {
      "cell_type": "code",
      "metadata": {
        "id": "wJY7M8I47RCz"
      },
      "source": [
        "# Importieren aller notwendigen Bibliotheken\n",
        "import pandas as pd\n",
        "from sklearn.model_selection import StratifiedShuffleSplit\n",
        "from sklearn.model_selection import GridSearchCV\n",
        "from sklearn.tree import DecisionTreeClassifier\n",
        "import numpy as np\n",
        "from sklearn import tree\n",
        "import graphviz\n",
        "import matplotlib.pyplot as plt\n",
        "import seaborn as sns\n",
        "from sklearn.metrics import confusion_matrix, plot_confusion_matrix, classification_report\n",
        "from sklearn.model_selection import learning_curve\n",
        "from sklearn.preprocessing import scale \n",
        "from sklearn.ensemble import RandomForestClassifier"
      ],
      "execution_count": null,
      "outputs": []
    },
    {
      "cell_type": "code",
      "metadata": {
        "id": "i_26RRc67TSM"
      },
      "source": [
        "# Datensatz einlesen\n",
        "df = pd.read_excel('https://archive.ics.uci.edu/ml/machine-learning-databases/00350/default%20of%20credit%20card%20clients.xls', index_col=0) #ID nicht importiert, da irrelevant"
      ],
      "execution_count": null,
      "outputs": []
    },
    {
      "cell_type": "code",
      "metadata": {
        "colab": {
          "base_uri": "https://localhost:8080/",
          "height": 419
        },
        "id": "0-zpoge_7gFR",
        "outputId": "f46fddbd-dbd1-4ccd-c67a-2e298579227d"
      },
      "source": [
        "# Erste Zeile löschen, weil es nur Informationen zum Datensatz sind\n",
        "df = df[1:]\n",
        "\n",
        "# Testausgabe\n",
        "df "
      ],
      "execution_count": null,
      "outputs": [
        {
          "output_type": "execute_result",
          "data": {
            "text/html": [
              "<div>\n",
              "<style scoped>\n",
              "    .dataframe tbody tr th:only-of-type {\n",
              "        vertical-align: middle;\n",
              "    }\n",
              "\n",
              "    .dataframe tbody tr th {\n",
              "        vertical-align: top;\n",
              "    }\n",
              "\n",
              "    .dataframe thead th {\n",
              "        text-align: right;\n",
              "    }\n",
              "</style>\n",
              "<table border=\"1\" class=\"dataframe\">\n",
              "  <thead>\n",
              "    <tr style=\"text-align: right;\">\n",
              "      <th></th>\n",
              "      <th>X1</th>\n",
              "      <th>X2</th>\n",
              "      <th>X3</th>\n",
              "      <th>X4</th>\n",
              "      <th>X5</th>\n",
              "      <th>X6</th>\n",
              "      <th>X7</th>\n",
              "      <th>X8</th>\n",
              "      <th>X9</th>\n",
              "      <th>X10</th>\n",
              "      <th>X11</th>\n",
              "      <th>X12</th>\n",
              "      <th>X13</th>\n",
              "      <th>X14</th>\n",
              "      <th>X15</th>\n",
              "      <th>X16</th>\n",
              "      <th>X17</th>\n",
              "      <th>X18</th>\n",
              "      <th>X19</th>\n",
              "      <th>X20</th>\n",
              "      <th>X21</th>\n",
              "      <th>X22</th>\n",
              "      <th>X23</th>\n",
              "      <th>Y</th>\n",
              "    </tr>\n",
              "  </thead>\n",
              "  <tbody>\n",
              "    <tr>\n",
              "      <th>1</th>\n",
              "      <td>20000</td>\n",
              "      <td>2</td>\n",
              "      <td>2</td>\n",
              "      <td>1</td>\n",
              "      <td>24</td>\n",
              "      <td>2</td>\n",
              "      <td>2</td>\n",
              "      <td>-1</td>\n",
              "      <td>-1</td>\n",
              "      <td>-2</td>\n",
              "      <td>-2</td>\n",
              "      <td>3913</td>\n",
              "      <td>3102</td>\n",
              "      <td>689</td>\n",
              "      <td>0</td>\n",
              "      <td>0</td>\n",
              "      <td>0</td>\n",
              "      <td>0</td>\n",
              "      <td>689</td>\n",
              "      <td>0</td>\n",
              "      <td>0</td>\n",
              "      <td>0</td>\n",
              "      <td>0</td>\n",
              "      <td>1</td>\n",
              "    </tr>\n",
              "    <tr>\n",
              "      <th>2</th>\n",
              "      <td>120000</td>\n",
              "      <td>2</td>\n",
              "      <td>2</td>\n",
              "      <td>2</td>\n",
              "      <td>26</td>\n",
              "      <td>-1</td>\n",
              "      <td>2</td>\n",
              "      <td>0</td>\n",
              "      <td>0</td>\n",
              "      <td>0</td>\n",
              "      <td>2</td>\n",
              "      <td>2682</td>\n",
              "      <td>1725</td>\n",
              "      <td>2682</td>\n",
              "      <td>3272</td>\n",
              "      <td>3455</td>\n",
              "      <td>3261</td>\n",
              "      <td>0</td>\n",
              "      <td>1000</td>\n",
              "      <td>1000</td>\n",
              "      <td>1000</td>\n",
              "      <td>0</td>\n",
              "      <td>2000</td>\n",
              "      <td>1</td>\n",
              "    </tr>\n",
              "    <tr>\n",
              "      <th>3</th>\n",
              "      <td>90000</td>\n",
              "      <td>2</td>\n",
              "      <td>2</td>\n",
              "      <td>2</td>\n",
              "      <td>34</td>\n",
              "      <td>0</td>\n",
              "      <td>0</td>\n",
              "      <td>0</td>\n",
              "      <td>0</td>\n",
              "      <td>0</td>\n",
              "      <td>0</td>\n",
              "      <td>29239</td>\n",
              "      <td>14027</td>\n",
              "      <td>13559</td>\n",
              "      <td>14331</td>\n",
              "      <td>14948</td>\n",
              "      <td>15549</td>\n",
              "      <td>1518</td>\n",
              "      <td>1500</td>\n",
              "      <td>1000</td>\n",
              "      <td>1000</td>\n",
              "      <td>1000</td>\n",
              "      <td>5000</td>\n",
              "      <td>0</td>\n",
              "    </tr>\n",
              "    <tr>\n",
              "      <th>4</th>\n",
              "      <td>50000</td>\n",
              "      <td>2</td>\n",
              "      <td>2</td>\n",
              "      <td>1</td>\n",
              "      <td>37</td>\n",
              "      <td>0</td>\n",
              "      <td>0</td>\n",
              "      <td>0</td>\n",
              "      <td>0</td>\n",
              "      <td>0</td>\n",
              "      <td>0</td>\n",
              "      <td>46990</td>\n",
              "      <td>48233</td>\n",
              "      <td>49291</td>\n",
              "      <td>28314</td>\n",
              "      <td>28959</td>\n",
              "      <td>29547</td>\n",
              "      <td>2000</td>\n",
              "      <td>2019</td>\n",
              "      <td>1200</td>\n",
              "      <td>1100</td>\n",
              "      <td>1069</td>\n",
              "      <td>1000</td>\n",
              "      <td>0</td>\n",
              "    </tr>\n",
              "    <tr>\n",
              "      <th>5</th>\n",
              "      <td>50000</td>\n",
              "      <td>1</td>\n",
              "      <td>2</td>\n",
              "      <td>1</td>\n",
              "      <td>57</td>\n",
              "      <td>-1</td>\n",
              "      <td>0</td>\n",
              "      <td>-1</td>\n",
              "      <td>0</td>\n",
              "      <td>0</td>\n",
              "      <td>0</td>\n",
              "      <td>8617</td>\n",
              "      <td>5670</td>\n",
              "      <td>35835</td>\n",
              "      <td>20940</td>\n",
              "      <td>19146</td>\n",
              "      <td>19131</td>\n",
              "      <td>2000</td>\n",
              "      <td>36681</td>\n",
              "      <td>10000</td>\n",
              "      <td>9000</td>\n",
              "      <td>689</td>\n",
              "      <td>679</td>\n",
              "      <td>0</td>\n",
              "    </tr>\n",
              "    <tr>\n",
              "      <th>...</th>\n",
              "      <td>...</td>\n",
              "      <td>...</td>\n",
              "      <td>...</td>\n",
              "      <td>...</td>\n",
              "      <td>...</td>\n",
              "      <td>...</td>\n",
              "      <td>...</td>\n",
              "      <td>...</td>\n",
              "      <td>...</td>\n",
              "      <td>...</td>\n",
              "      <td>...</td>\n",
              "      <td>...</td>\n",
              "      <td>...</td>\n",
              "      <td>...</td>\n",
              "      <td>...</td>\n",
              "      <td>...</td>\n",
              "      <td>...</td>\n",
              "      <td>...</td>\n",
              "      <td>...</td>\n",
              "      <td>...</td>\n",
              "      <td>...</td>\n",
              "      <td>...</td>\n",
              "      <td>...</td>\n",
              "      <td>...</td>\n",
              "    </tr>\n",
              "    <tr>\n",
              "      <th>29996</th>\n",
              "      <td>220000</td>\n",
              "      <td>1</td>\n",
              "      <td>3</td>\n",
              "      <td>1</td>\n",
              "      <td>39</td>\n",
              "      <td>0</td>\n",
              "      <td>0</td>\n",
              "      <td>0</td>\n",
              "      <td>0</td>\n",
              "      <td>0</td>\n",
              "      <td>0</td>\n",
              "      <td>188948</td>\n",
              "      <td>192815</td>\n",
              "      <td>208365</td>\n",
              "      <td>88004</td>\n",
              "      <td>31237</td>\n",
              "      <td>15980</td>\n",
              "      <td>8500</td>\n",
              "      <td>20000</td>\n",
              "      <td>5003</td>\n",
              "      <td>3047</td>\n",
              "      <td>5000</td>\n",
              "      <td>1000</td>\n",
              "      <td>0</td>\n",
              "    </tr>\n",
              "    <tr>\n",
              "      <th>29997</th>\n",
              "      <td>150000</td>\n",
              "      <td>1</td>\n",
              "      <td>3</td>\n",
              "      <td>2</td>\n",
              "      <td>43</td>\n",
              "      <td>-1</td>\n",
              "      <td>-1</td>\n",
              "      <td>-1</td>\n",
              "      <td>-1</td>\n",
              "      <td>0</td>\n",
              "      <td>0</td>\n",
              "      <td>1683</td>\n",
              "      <td>1828</td>\n",
              "      <td>3502</td>\n",
              "      <td>8979</td>\n",
              "      <td>5190</td>\n",
              "      <td>0</td>\n",
              "      <td>1837</td>\n",
              "      <td>3526</td>\n",
              "      <td>8998</td>\n",
              "      <td>129</td>\n",
              "      <td>0</td>\n",
              "      <td>0</td>\n",
              "      <td>0</td>\n",
              "    </tr>\n",
              "    <tr>\n",
              "      <th>29998</th>\n",
              "      <td>30000</td>\n",
              "      <td>1</td>\n",
              "      <td>2</td>\n",
              "      <td>2</td>\n",
              "      <td>37</td>\n",
              "      <td>4</td>\n",
              "      <td>3</td>\n",
              "      <td>2</td>\n",
              "      <td>-1</td>\n",
              "      <td>0</td>\n",
              "      <td>0</td>\n",
              "      <td>3565</td>\n",
              "      <td>3356</td>\n",
              "      <td>2758</td>\n",
              "      <td>20878</td>\n",
              "      <td>20582</td>\n",
              "      <td>19357</td>\n",
              "      <td>0</td>\n",
              "      <td>0</td>\n",
              "      <td>22000</td>\n",
              "      <td>4200</td>\n",
              "      <td>2000</td>\n",
              "      <td>3100</td>\n",
              "      <td>1</td>\n",
              "    </tr>\n",
              "    <tr>\n",
              "      <th>29999</th>\n",
              "      <td>80000</td>\n",
              "      <td>1</td>\n",
              "      <td>3</td>\n",
              "      <td>1</td>\n",
              "      <td>41</td>\n",
              "      <td>1</td>\n",
              "      <td>-1</td>\n",
              "      <td>0</td>\n",
              "      <td>0</td>\n",
              "      <td>0</td>\n",
              "      <td>-1</td>\n",
              "      <td>-1645</td>\n",
              "      <td>78379</td>\n",
              "      <td>76304</td>\n",
              "      <td>52774</td>\n",
              "      <td>11855</td>\n",
              "      <td>48944</td>\n",
              "      <td>85900</td>\n",
              "      <td>3409</td>\n",
              "      <td>1178</td>\n",
              "      <td>1926</td>\n",
              "      <td>52964</td>\n",
              "      <td>1804</td>\n",
              "      <td>1</td>\n",
              "    </tr>\n",
              "    <tr>\n",
              "      <th>30000</th>\n",
              "      <td>50000</td>\n",
              "      <td>1</td>\n",
              "      <td>2</td>\n",
              "      <td>1</td>\n",
              "      <td>46</td>\n",
              "      <td>0</td>\n",
              "      <td>0</td>\n",
              "      <td>0</td>\n",
              "      <td>0</td>\n",
              "      <td>0</td>\n",
              "      <td>0</td>\n",
              "      <td>47929</td>\n",
              "      <td>48905</td>\n",
              "      <td>49764</td>\n",
              "      <td>36535</td>\n",
              "      <td>32428</td>\n",
              "      <td>15313</td>\n",
              "      <td>2078</td>\n",
              "      <td>1800</td>\n",
              "      <td>1430</td>\n",
              "      <td>1000</td>\n",
              "      <td>1000</td>\n",
              "      <td>1000</td>\n",
              "      <td>1</td>\n",
              "    </tr>\n",
              "  </tbody>\n",
              "</table>\n",
              "<p>30000 rows × 24 columns</p>\n",
              "</div>"
            ],
            "text/plain": [
              "           X1 X2 X3 X4  X5  X6  X7  ...    X18    X19    X20   X21    X22   X23  Y\n",
              "1       20000  2  2  1  24   2   2  ...      0    689      0     0      0     0  1\n",
              "2      120000  2  2  2  26  -1   2  ...      0   1000   1000  1000      0  2000  1\n",
              "3       90000  2  2  2  34   0   0  ...   1518   1500   1000  1000   1000  5000  0\n",
              "4       50000  2  2  1  37   0   0  ...   2000   2019   1200  1100   1069  1000  0\n",
              "5       50000  1  2  1  57  -1   0  ...   2000  36681  10000  9000    689   679  0\n",
              "...       ... .. .. ..  ..  ..  ..  ...    ...    ...    ...   ...    ...   ... ..\n",
              "29996  220000  1  3  1  39   0   0  ...   8500  20000   5003  3047   5000  1000  0\n",
              "29997  150000  1  3  2  43  -1  -1  ...   1837   3526   8998   129      0     0  0\n",
              "29998   30000  1  2  2  37   4   3  ...      0      0  22000  4200   2000  3100  1\n",
              "29999   80000  1  3  1  41   1  -1  ...  85900   3409   1178  1926  52964  1804  1\n",
              "30000   50000  1  2  1  46   0   0  ...   2078   1800   1430  1000   1000  1000  1\n",
              "\n",
              "[30000 rows x 24 columns]"
            ]
          },
          "metadata": {
            "tags": []
          },
          "execution_count": 3
        }
      ]
    },
    {
      "cell_type": "code",
      "metadata": {
        "colab": {
          "base_uri": "https://localhost:8080/"
        },
        "id": "8ggWzOBx_mPQ",
        "outputId": "50f5038d-3555-4403-b58f-dd722a7e29dc"
      },
      "source": [
        "df.info()"
      ],
      "execution_count": null,
      "outputs": [
        {
          "output_type": "stream",
          "text": [
            "<class 'pandas.core.frame.DataFrame'>\n",
            "Index: 30000 entries, 1 to 30000\n",
            "Data columns (total 24 columns):\n",
            " #   Column  Non-Null Count  Dtype \n",
            "---  ------  --------------  ----- \n",
            " 0   X1      30000 non-null  object\n",
            " 1   X2      30000 non-null  object\n",
            " 2   X3      30000 non-null  object\n",
            " 3   X4      30000 non-null  object\n",
            " 4   X5      30000 non-null  object\n",
            " 5   X6      30000 non-null  object\n",
            " 6   X7      30000 non-null  object\n",
            " 7   X8      30000 non-null  object\n",
            " 8   X9      30000 non-null  object\n",
            " 9   X10     30000 non-null  object\n",
            " 10  X11     30000 non-null  object\n",
            " 11  X12     30000 non-null  object\n",
            " 12  X13     30000 non-null  object\n",
            " 13  X14     30000 non-null  object\n",
            " 14  X15     30000 non-null  object\n",
            " 15  X16     30000 non-null  object\n",
            " 16  X17     30000 non-null  object\n",
            " 17  X18     30000 non-null  object\n",
            " 18  X19     30000 non-null  object\n",
            " 19  X20     30000 non-null  object\n",
            " 20  X21     30000 non-null  object\n",
            " 21  X22     30000 non-null  object\n",
            " 22  X23     30000 non-null  object\n",
            " 23  Y       30000 non-null  object\n",
            "dtypes: object(24)\n",
            "memory usage: 5.7+ MB\n"
          ],
          "name": "stdout"
        }
      ]
    },
    {
      "cell_type": "markdown",
      "metadata": {
        "id": "FzU7kHBa-BzQ"
      },
      "source": [
        "### Aufteilung nach Trainings- und Testdaten\n",
        "\n",
        "#### Nutzung der repräsentativen Teilung:"
      ]
    },
    {
      "cell_type": "code",
      "metadata": {
        "colab": {
          "base_uri": "https://localhost:8080/"
        },
        "id": "liaWGzMVC3qd",
        "outputId": "f186fa22-fff9-49f2-daeb-9c2977ca57bf"
      },
      "source": [
        "# Daten\n",
        "X = df.drop('Y', axis=1)\n",
        "\n",
        "# Zielvariable\n",
        "y = df['Y']                 \n",
        "y= y.astype('int')\n",
        "\n",
        "# Shape vergleichen\n",
        "print(X.shape)\n",
        "print(y.shape)"
      ],
      "execution_count": null,
      "outputs": [
        {
          "output_type": "stream",
          "text": [
            "(30000, 23)\n",
            "(30000,)\n"
          ],
          "name": "stdout"
        }
      ]
    },
    {
      "cell_type": "code",
      "metadata": {
        "colab": {
          "base_uri": "https://localhost:8080/"
        },
        "id": "08sAAz82-t5x",
        "outputId": "edc0ad2a-f8ee-4ff6-eccc-ea27709c89b4"
      },
      "source": [
        "# Aufteilen in Trainings- und Testdaten\n",
        "splitter = StratifiedShuffleSplit(n_splits = 1, test_size = 0.2) \n",
        "splitter.get_n_splits(X, y)\n",
        "print(splitter.split(X,y))"
      ],
      "execution_count": null,
      "outputs": [
        {
          "output_type": "stream",
          "text": [
            "<generator object BaseShuffleSplit.split at 0x7fd53ce22b48>\n"
          ],
          "name": "stdout"
        }
      ]
    },
    {
      "cell_type": "code",
      "metadata": {
        "colab": {
          "base_uri": "https://localhost:8080/"
        },
        "id": "w57Sxf4OBMuT",
        "outputId": "f535bfdb-0da9-443f-80bb-3b13ebcdd46a"
      },
      "source": [
        "for train_index, test_index in splitter.split(X, y):\n",
        "    print(\"TRAIN:\", train_index, \"TEST:\", test_index)\n",
        "    X_train, X_test = X.iloc[train_index], X.iloc[test_index]\n",
        "    y_train, y_test = y.iloc[train_index], y.iloc[test_index]\n",
        "\n",
        "# Validierung des Splits:\n",
        "print('X-train: ', X_train.shape, ' X_test: ', X_test.shape, ' y_train: ', y_train.shape, ' y_test: ', y_test.shape)\n",
        "\n",
        "print(y_train.value_counts())\n",
        "print(y_test.value_counts())"
      ],
      "execution_count": null,
      "outputs": [
        {
          "output_type": "stream",
          "text": [
            "TRAIN: [ 1738  1321  6151 ... 26273 23348  7872] TEST: [21931 12846 18027 ... 16888  7865  1170]\n",
            "X-train:  (24000, 23)  X_test:  (6000, 23)  y_train:  (24000,)  y_test:  (6000,)\n",
            "0    18691\n",
            "1     5309\n",
            "Name: Y, dtype: int64\n",
            "0    4673\n",
            "1    1327\n",
            "Name: Y, dtype: int64\n"
          ],
          "name": "stdout"
        }
      ]
    },
    {
      "cell_type": "markdown",
      "metadata": {
        "id": "IzedOTjdS-dw"
      },
      "source": [
        "## Modelldesign\r\n",
        "### Decision Tree Classifier"
      ]
    },
    {
      "cell_type": "code",
      "metadata": {
        "colab": {
          "base_uri": "https://localhost:8080/"
        },
        "id": "kNzhe3plQqAU",
        "outputId": "136c1b78-8e69-464b-e636-f799ca939a3b"
      },
      "source": [
        "# Parameter für GridSearch festlegen\n",
        "param_grid = {'max_depth': np.arange(5, 7),\n",
        "             'max_leaf_nodes': [None,5,10,20,100],\n",
        "             'min_samples_split': [2, 5, 10, 20]}\n",
        "\n",
        "# Tree erstellen\n",
        "grid_tree = GridSearchCV(DecisionTreeClassifier(random_state=42), param_grid, cv = 5, scoring= 'accuracy', verbose = 8, n_jobs=-1)\n",
        "\n",
        "\n",
        "# Training\n",
        "grid_tree.fit(X_train, y_train)\n",
        "\n",
        "# Bester Classifier\n",
        "print(grid_tree.best_estimator_)\n",
        "best_decision_tree = grid_tree.best_estimator_\n",
        "\n",
        "# Trainingsscore\n",
        "print((grid_tree.best_score_))"
      ],
      "execution_count": null,
      "outputs": [
        {
          "output_type": "stream",
          "text": [
            "Fitting 5 folds for each of 40 candidates, totalling 200 fits\n"
          ],
          "name": "stdout"
        },
        {
          "output_type": "stream",
          "text": [
            "[Parallel(n_jobs=-1)]: Using backend LokyBackend with 2 concurrent workers.\n",
            "[Parallel(n_jobs=-1)]: Done   1 tasks      | elapsed:    0.4s\n",
            "[Parallel(n_jobs=-1)]: Done  14 tasks      | elapsed:    2.9s\n",
            "[Parallel(n_jobs=-1)]: Done  37 tasks      | elapsed:    7.3s\n",
            "[Parallel(n_jobs=-1)]: Done  68 tasks      | elapsed:   13.1s\n",
            "[Parallel(n_jobs=-1)]: Done 109 tasks      | elapsed:   20.8s\n",
            "[Parallel(n_jobs=-1)]: Done 158 tasks      | elapsed:   30.1s\n",
            "[Parallel(n_jobs=-1)]: Done 200 out of 200 | elapsed:   38.5s finished\n"
          ],
          "name": "stderr"
        },
        {
          "output_type": "stream",
          "text": [
            "DecisionTreeClassifier(ccp_alpha=0.0, class_weight=None, criterion='gini',\n",
            "                       max_depth=6, max_features=None, max_leaf_nodes=20,\n",
            "                       min_impurity_decrease=0.0, min_impurity_split=None,\n",
            "                       min_samples_leaf=1, min_samples_split=2,\n",
            "                       min_weight_fraction_leaf=0.0, presort='deprecated',\n",
            "                       random_state=42, splitter='best')\n",
            "0.8209166666666666\n"
          ],
          "name": "stdout"
        }
      ]
    },
    {
      "cell_type": "code",
      "metadata": {
        "id": "M-iQJHW0SlLz",
        "colab": {
          "base_uri": "https://localhost:8080/",
          "height": 954
        },
        "outputId": "f1c6c377-62dd-4ba9-8c96-56b83eb4cb4a"
      },
      "source": [
        "# Besten DecisionTree grafisch darstellen\n",
        "dot_data = tree.export_graphviz(best_decision_tree, out_file=None)  \n",
        "graph = graphviz.Source(dot_data)  \n",
        "graph"
      ],
      "execution_count": null,
      "outputs": [
        {
          "output_type": "execute_result",
          "data": {
            "text/plain": [
              "<graphviz.files.Source at 0x7fd52b4bf940>"
            ],
            "image/svg+xml": "<?xml version=\"1.0\" encoding=\"UTF-8\" standalone=\"no\"?>\n<!DOCTYPE svg PUBLIC \"-//W3C//DTD SVG 1.1//EN\"\n \"http://www.w3.org/Graphics/SVG/1.1/DTD/svg11.dtd\">\n<!-- Generated by graphviz version 2.40.1 (20161225.0304)\n -->\n<!-- Title: Tree Pages: 1 -->\n<svg width=\"1977pt\" height=\"685pt\"\n viewBox=\"0.00 0.00 1977.00 685.00\" xmlns=\"http://www.w3.org/2000/svg\" xmlns:xlink=\"http://www.w3.org/1999/xlink\">\n<g id=\"graph0\" class=\"graph\" transform=\"scale(1 1) rotate(0) translate(4 681)\">\n<title>Tree</title>\n<polygon fill=\"#ffffff\" stroke=\"transparent\" points=\"-4,4 -4,-681 1973,-681 1973,4 -4,4\"/>\n<!-- 0 -->\n<g id=\"node1\" class=\"node\">\n<title>0</title>\n<polygon fill=\"none\" stroke=\"#000000\" points=\"1432.5,-677 1285.5,-677 1285.5,-609 1432.5,-609 1432.5,-677\"/>\n<text text-anchor=\"middle\" x=\"1359\" y=\"-661.8\" font-family=\"Times,serif\" font-size=\"14.00\" fill=\"#000000\">X[5] &lt;= 1.5</text>\n<text text-anchor=\"middle\" x=\"1359\" y=\"-646.8\" font-family=\"Times,serif\" font-size=\"14.00\" fill=\"#000000\">gini = 0.345</text>\n<text text-anchor=\"middle\" x=\"1359\" y=\"-631.8\" font-family=\"Times,serif\" font-size=\"14.00\" fill=\"#000000\">samples = 24000</text>\n<text text-anchor=\"middle\" x=\"1359\" y=\"-616.8\" font-family=\"Times,serif\" font-size=\"14.00\" fill=\"#000000\">value = [18691, 5309]</text>\n</g>\n<!-- 1 -->\n<g id=\"node2\" class=\"node\">\n<title>1</title>\n<polygon fill=\"none\" stroke=\"#000000\" points=\"1293.5,-573 1146.5,-573 1146.5,-505 1293.5,-505 1293.5,-573\"/>\n<text text-anchor=\"middle\" x=\"1220\" y=\"-557.8\" font-family=\"Times,serif\" font-size=\"14.00\" fill=\"#000000\">X[6] &lt;= 1.5</text>\n<text text-anchor=\"middle\" x=\"1220\" y=\"-542.8\" font-family=\"Times,serif\" font-size=\"14.00\" fill=\"#000000\">gini = 0.276</text>\n<text text-anchor=\"middle\" x=\"1220\" y=\"-527.8\" font-family=\"Times,serif\" font-size=\"14.00\" fill=\"#000000\">samples = 21490</text>\n<text text-anchor=\"middle\" x=\"1220\" y=\"-512.8\" font-family=\"Times,serif\" font-size=\"14.00\" fill=\"#000000\">value = [17929, 3561]</text>\n</g>\n<!-- 0&#45;&gt;1 -->\n<g id=\"edge1\" class=\"edge\">\n<title>0&#45;&gt;1</title>\n<path fill=\"none\" stroke=\"#000000\" d=\"M1313.4862,-608.9465C1300.766,-599.4293 1286.824,-588.9978 1273.6794,-579.163\"/>\n<polygon fill=\"#000000\" stroke=\"#000000\" points=\"1275.7198,-576.3184 1265.6161,-573.13 1271.5262,-581.9232 1275.7198,-576.3184\"/>\n<text text-anchor=\"middle\" x=\"1269.1801\" y=\"-594.1746\" font-family=\"Times,serif\" font-size=\"14.00\" fill=\"#000000\">True</text>\n</g>\n<!-- 2 -->\n<g id=\"node31\" class=\"node\">\n<title>2</title>\n<polygon fill=\"none\" stroke=\"#000000\" points=\"1567,-573 1435,-573 1435,-505 1567,-505 1567,-573\"/>\n<text text-anchor=\"middle\" x=\"1501\" y=\"-557.8\" font-family=\"Times,serif\" font-size=\"14.00\" fill=\"#000000\">X[7] &lt;= &#45;0.5</text>\n<text text-anchor=\"middle\" x=\"1501\" y=\"-542.8\" font-family=\"Times,serif\" font-size=\"14.00\" fill=\"#000000\">gini = 0.423</text>\n<text text-anchor=\"middle\" x=\"1501\" y=\"-527.8\" font-family=\"Times,serif\" font-size=\"14.00\" fill=\"#000000\">samples = 2510</text>\n<text text-anchor=\"middle\" x=\"1501\" y=\"-512.8\" font-family=\"Times,serif\" font-size=\"14.00\" fill=\"#000000\">value = [762, 1748]</text>\n</g>\n<!-- 0&#45;&gt;2 -->\n<g id=\"edge30\" class=\"edge\">\n<title>0&#45;&gt;2</title>\n<path fill=\"none\" stroke=\"#000000\" d=\"M1405.4961,-608.9465C1418.4908,-599.4293 1432.7337,-588.9978 1446.1621,-579.163\"/>\n<polygon fill=\"#000000\" stroke=\"#000000\" points=\"1448.3998,-581.8624 1454.3994,-573.13 1444.2637,-576.2151 1448.3998,-581.8624\"/>\n<text text-anchor=\"middle\" x=\"1450.5829\" y=\"-594.137\" font-family=\"Times,serif\" font-size=\"14.00\" fill=\"#000000\">False</text>\n</g>\n<!-- 3 -->\n<g id=\"node3\" class=\"node\">\n<title>3</title>\n<polygon fill=\"none\" stroke=\"#000000\" points=\"1007.5,-469 860.5,-469 860.5,-401 1007.5,-401 1007.5,-469\"/>\n<text text-anchor=\"middle\" x=\"934\" y=\"-453.8\" font-family=\"Times,serif\" font-size=\"14.00\" fill=\"#000000\">X[19] &lt;= 810.5</text>\n<text text-anchor=\"middle\" x=\"934\" y=\"-438.8\" font-family=\"Times,serif\" font-size=\"14.00\" fill=\"#000000\">gini = 0.245</text>\n<text text-anchor=\"middle\" x=\"934\" y=\"-423.8\" font-family=\"Times,serif\" font-size=\"14.00\" fill=\"#000000\">samples = 19679</text>\n<text text-anchor=\"middle\" x=\"934\" y=\"-408.8\" font-family=\"Times,serif\" font-size=\"14.00\" fill=\"#000000\">value = [16873, 2806]</text>\n</g>\n<!-- 1&#45;&gt;3 -->\n<g id=\"edge2\" class=\"edge\">\n<title>1&#45;&gt;3</title>\n<path fill=\"none\" stroke=\"#000000\" d=\"M1146.3479,-512.2174C1106.9694,-497.898 1058.3338,-480.2123 1017.5481,-465.3811\"/>\n<polygon fill=\"#000000\" stroke=\"#000000\" points=\"1018.4931,-462.0006 1007.899,-461.8724 1016.1009,-468.5792 1018.4931,-462.0006\"/>\n</g>\n<!-- 4 -->\n<g id=\"node26\" class=\"node\">\n<title>4</title>\n<polygon fill=\"none\" stroke=\"#000000\" points=\"1286,-469 1154,-469 1154,-401 1286,-401 1286,-469\"/>\n<text text-anchor=\"middle\" x=\"1220\" y=\"-453.8\" font-family=\"Times,serif\" font-size=\"14.00\" fill=\"#000000\">X[9] &lt;= 1.0</text>\n<text text-anchor=\"middle\" x=\"1220\" y=\"-438.8\" font-family=\"Times,serif\" font-size=\"14.00\" fill=\"#000000\">gini = 0.486</text>\n<text text-anchor=\"middle\" x=\"1220\" y=\"-423.8\" font-family=\"Times,serif\" font-size=\"14.00\" fill=\"#000000\">samples = 1811</text>\n<text text-anchor=\"middle\" x=\"1220\" y=\"-408.8\" font-family=\"Times,serif\" font-size=\"14.00\" fill=\"#000000\">value = [1056, 755]</text>\n</g>\n<!-- 1&#45;&gt;4 -->\n<g id=\"edge25\" class=\"edge\">\n<title>1&#45;&gt;4</title>\n<path fill=\"none\" stroke=\"#000000\" d=\"M1220,-504.9465C1220,-496.776 1220,-487.9318 1220,-479.3697\"/>\n<polygon fill=\"#000000\" stroke=\"#000000\" points=\"1223.5001,-479.13 1220,-469.13 1216.5001,-479.13 1223.5001,-479.13\"/>\n</g>\n<!-- 5 -->\n<g id=\"node4\" class=\"node\">\n<title>5</title>\n<polygon fill=\"none\" stroke=\"#000000\" points=\"572,-365 432,-365 432,-297 572,-297 572,-365\"/>\n<text text-anchor=\"middle\" x=\"502\" y=\"-349.8\" font-family=\"Times,serif\" font-size=\"14.00\" fill=\"#000000\">X[11] &lt;= 474.0</text>\n<text text-anchor=\"middle\" x=\"502\" y=\"-334.8\" font-family=\"Times,serif\" font-size=\"14.00\" fill=\"#000000\">gini = 0.335</text>\n<text text-anchor=\"middle\" x=\"502\" y=\"-319.8\" font-family=\"Times,serif\" font-size=\"14.00\" fill=\"#000000\">samples = 5807</text>\n<text text-anchor=\"middle\" x=\"502\" y=\"-304.8\" font-family=\"Times,serif\" font-size=\"14.00\" fill=\"#000000\">value = [4572, 1235]</text>\n</g>\n<!-- 3&#45;&gt;5 -->\n<g id=\"edge3\" class=\"edge\">\n<title>3&#45;&gt;5</title>\n<path fill=\"none\" stroke=\"#000000\" d=\"M860.2274,-417.2399C782.9242,-398.6299 661.8698,-369.4872 582.2305,-350.3148\"/>\n<polygon fill=\"#000000\" stroke=\"#000000\" points=\"582.7874,-346.8489 572.246,-347.9111 581.149,-353.6545 582.7874,-346.8489\"/>\n</g>\n<!-- 6 -->\n<g id=\"node15\" class=\"node\">\n<title>6</title>\n<polygon fill=\"none\" stroke=\"#000000\" points=\"1007.5,-365 860.5,-365 860.5,-297 1007.5,-297 1007.5,-365\"/>\n<text text-anchor=\"middle\" x=\"934\" y=\"-349.8\" font-family=\"Times,serif\" font-size=\"14.00\" fill=\"#000000\">X[9] &lt;= 1.0</text>\n<text text-anchor=\"middle\" x=\"934\" y=\"-334.8\" font-family=\"Times,serif\" font-size=\"14.00\" fill=\"#000000\">gini = 0.201</text>\n<text text-anchor=\"middle\" x=\"934\" y=\"-319.8\" font-family=\"Times,serif\" font-size=\"14.00\" fill=\"#000000\">samples = 13872</text>\n<text text-anchor=\"middle\" x=\"934\" y=\"-304.8\" font-family=\"Times,serif\" font-size=\"14.00\" fill=\"#000000\">value = [12301, 1571]</text>\n</g>\n<!-- 3&#45;&gt;6 -->\n<g id=\"edge14\" class=\"edge\">\n<title>3&#45;&gt;6</title>\n<path fill=\"none\" stroke=\"#000000\" d=\"M934,-400.9465C934,-392.776 934,-383.9318 934,-375.3697\"/>\n<polygon fill=\"#000000\" stroke=\"#000000\" points=\"937.5001,-375.13 934,-365.13 930.5001,-375.13 937.5001,-375.13\"/>\n</g>\n<!-- 9 -->\n<g id=\"node5\" class=\"node\">\n<title>9</title>\n<polygon fill=\"none\" stroke=\"#000000\" points=\"347,-261 215,-261 215,-193 347,-193 347,-261\"/>\n<text text-anchor=\"middle\" x=\"281\" y=\"-245.8\" font-family=\"Times,serif\" font-size=\"14.00\" fill=\"#000000\">X[19] &lt;= 0.5</text>\n<text text-anchor=\"middle\" x=\"281\" y=\"-230.8\" font-family=\"Times,serif\" font-size=\"14.00\" fill=\"#000000\">gini = 0.4</text>\n<text text-anchor=\"middle\" x=\"281\" y=\"-215.8\" font-family=\"Times,serif\" font-size=\"14.00\" fill=\"#000000\">samples = 2172</text>\n<text text-anchor=\"middle\" x=\"281\" y=\"-200.8\" font-family=\"Times,serif\" font-size=\"14.00\" fill=\"#000000\">value = [1571, 601]</text>\n</g>\n<!-- 5&#45;&gt;9 -->\n<g id=\"edge4\" class=\"edge\">\n<title>5&#45;&gt;9</title>\n<path fill=\"none\" stroke=\"#000000\" d=\"M431.7706,-297.9509C407.787,-286.6644 380.8712,-273.9982 356.4911,-262.5252\"/>\n<polygon fill=\"#000000\" stroke=\"#000000\" points=\"357.8212,-259.283 347.2827,-258.1919 354.8406,-265.6168 357.8212,-259.283\"/>\n</g>\n<!-- 10 -->\n<g id=\"node10\" class=\"node\">\n<title>10</title>\n<polygon fill=\"none\" stroke=\"#000000\" points=\"568,-261 436,-261 436,-193 568,-193 568,-261\"/>\n<text text-anchor=\"middle\" x=\"502\" y=\"-245.8\" font-family=\"Times,serif\" font-size=\"14.00\" fill=\"#000000\">X[8] &lt;= 1.0</text>\n<text text-anchor=\"middle\" x=\"502\" y=\"-230.8\" font-family=\"Times,serif\" font-size=\"14.00\" fill=\"#000000\">gini = 0.288</text>\n<text text-anchor=\"middle\" x=\"502\" y=\"-215.8\" font-family=\"Times,serif\" font-size=\"14.00\" fill=\"#000000\">samples = 3635</text>\n<text text-anchor=\"middle\" x=\"502\" y=\"-200.8\" font-family=\"Times,serif\" font-size=\"14.00\" fill=\"#000000\">value = [3001, 634]</text>\n</g>\n<!-- 5&#45;&gt;10 -->\n<g id=\"edge9\" class=\"edge\">\n<title>5&#45;&gt;10</title>\n<path fill=\"none\" stroke=\"#000000\" d=\"M502,-296.9465C502,-288.776 502,-279.9318 502,-271.3697\"/>\n<polygon fill=\"#000000\" stroke=\"#000000\" points=\"505.5001,-271.13 502,-261.13 498.5001,-271.13 505.5001,-271.13\"/>\n</g>\n<!-- 23 -->\n<g id=\"node6\" class=\"node\">\n<title>23</title>\n<polygon fill=\"none\" stroke=\"#000000\" points=\"201,-157 69,-157 69,-89 201,-89 201,-157\"/>\n<text text-anchor=\"middle\" x=\"135\" y=\"-141.8\" font-family=\"Times,serif\" font-size=\"14.00\" fill=\"#000000\">X[4] &lt;= 52.5</text>\n<text text-anchor=\"middle\" x=\"135\" y=\"-126.8\" font-family=\"Times,serif\" font-size=\"14.00\" fill=\"#000000\">gini = 0.424</text>\n<text text-anchor=\"middle\" x=\"135\" y=\"-111.8\" font-family=\"Times,serif\" font-size=\"14.00\" fill=\"#000000\">samples = 1577</text>\n<text text-anchor=\"middle\" x=\"135\" y=\"-96.8\" font-family=\"Times,serif\" font-size=\"14.00\" fill=\"#000000\">value = [1095, 482]</text>\n</g>\n<!-- 9&#45;&gt;23 -->\n<g id=\"edge5\" class=\"edge\">\n<title>9&#45;&gt;23</title>\n<path fill=\"none\" stroke=\"#000000\" d=\"M233.1941,-192.9465C219.8334,-183.4293 205.1893,-172.9978 191.3826,-163.163\"/>\n<polygon fill=\"#000000\" stroke=\"#000000\" points=\"193.0888,-160.0811 182.9133,-157.13 189.0275,-165.7826 193.0888,-160.0811\"/>\n</g>\n<!-- 24 -->\n<g id=\"node9\" class=\"node\">\n<title>24</title>\n<polygon fill=\"none\" stroke=\"#000000\" points=\"343,-149.5 219,-149.5 219,-96.5 343,-96.5 343,-149.5\"/>\n<text text-anchor=\"middle\" x=\"281\" y=\"-134.3\" font-family=\"Times,serif\" font-size=\"14.00\" fill=\"#000000\">gini = 0.32</text>\n<text text-anchor=\"middle\" x=\"281\" y=\"-119.3\" font-family=\"Times,serif\" font-size=\"14.00\" fill=\"#000000\">samples = 595</text>\n<text text-anchor=\"middle\" x=\"281\" y=\"-104.3\" font-family=\"Times,serif\" font-size=\"14.00\" fill=\"#000000\">value = [476, 119]</text>\n</g>\n<!-- 9&#45;&gt;24 -->\n<g id=\"edge8\" class=\"edge\">\n<title>9&#45;&gt;24</title>\n<path fill=\"none\" stroke=\"#000000\" d=\"M281,-192.9465C281,-182.2621 281,-170.4254 281,-159.5742\"/>\n<polygon fill=\"#000000\" stroke=\"#000000\" points=\"284.5001,-159.5421 281,-149.5422 277.5001,-159.5422 284.5001,-159.5421\"/>\n</g>\n<!-- 25 -->\n<g id=\"node7\" class=\"node\">\n<title>25</title>\n<polygon fill=\"none\" stroke=\"#000000\" points=\"132,-53 0,-53 0,0 132,0 132,-53\"/>\n<text text-anchor=\"middle\" x=\"66\" y=\"-37.8\" font-family=\"Times,serif\" font-size=\"14.00\" fill=\"#000000\">gini = 0.414</text>\n<text text-anchor=\"middle\" x=\"66\" y=\"-22.8\" font-family=\"Times,serif\" font-size=\"14.00\" fill=\"#000000\">samples = 1477</text>\n<text text-anchor=\"middle\" x=\"66\" y=\"-7.8\" font-family=\"Times,serif\" font-size=\"14.00\" fill=\"#000000\">value = [1045, 432]</text>\n</g>\n<!-- 23&#45;&gt;25 -->\n<g id=\"edge6\" class=\"edge\">\n<title>23&#45;&gt;25</title>\n<path fill=\"none\" stroke=\"#000000\" d=\"M110.6732,-88.9777C104.3221,-80.0954 97.466,-70.5067 91.0768,-61.5711\"/>\n<polygon fill=\"#000000\" stroke=\"#000000\" points=\"93.7893,-59.3472 85.1259,-53.2485 88.0952,-63.4187 93.7893,-59.3472\"/>\n</g>\n<!-- 26 -->\n<g id=\"node8\" class=\"node\">\n<title>26</title>\n<polygon fill=\"none\" stroke=\"#000000\" points=\"260,-53 150,-53 150,0 260,0 260,-53\"/>\n<text text-anchor=\"middle\" x=\"205\" y=\"-37.8\" font-family=\"Times,serif\" font-size=\"14.00\" fill=\"#000000\">gini = 0.5</text>\n<text text-anchor=\"middle\" x=\"205\" y=\"-22.8\" font-family=\"Times,serif\" font-size=\"14.00\" fill=\"#000000\">samples = 100</text>\n<text text-anchor=\"middle\" x=\"205\" y=\"-7.8\" font-family=\"Times,serif\" font-size=\"14.00\" fill=\"#000000\">value = [50, 50]</text>\n</g>\n<!-- 23&#45;&gt;26 -->\n<g id=\"edge7\" class=\"edge\">\n<title>23&#45;&gt;26</title>\n<path fill=\"none\" stroke=\"#000000\" d=\"M159.6794,-88.9777C166.1225,-80.0954 173.078,-70.5067 179.5598,-61.5711\"/>\n<polygon fill=\"#000000\" stroke=\"#000000\" points=\"182.5583,-63.3982 185.597,-53.2485 176.8921,-59.288 182.5583,-63.3982\"/>\n</g>\n<!-- 19 -->\n<g id=\"node11\" class=\"node\">\n<title>19</title>\n<polygon fill=\"none\" stroke=\"#000000\" points=\"493,-157 361,-157 361,-89 493,-89 493,-157\"/>\n<text text-anchor=\"middle\" x=\"427\" y=\"-141.8\" font-family=\"Times,serif\" font-size=\"14.00\" fill=\"#000000\">X[7] &lt;= 1.5</text>\n<text text-anchor=\"middle\" x=\"427\" y=\"-126.8\" font-family=\"Times,serif\" font-size=\"14.00\" fill=\"#000000\">gini = 0.265</text>\n<text text-anchor=\"middle\" x=\"427\" y=\"-111.8\" font-family=\"Times,serif\" font-size=\"14.00\" fill=\"#000000\">samples = 3043</text>\n<text text-anchor=\"middle\" x=\"427\" y=\"-96.8\" font-family=\"Times,serif\" font-size=\"14.00\" fill=\"#000000\">value = [2565, 478]</text>\n</g>\n<!-- 10&#45;&gt;19 -->\n<g id=\"edge10\" class=\"edge\">\n<title>10&#45;&gt;19</title>\n<path fill=\"none\" stroke=\"#000000\" d=\"M477.4422,-192.9465C471.0968,-184.1475 464.1879,-174.5672 457.5764,-165.3993\"/>\n<polygon fill=\"#000000\" stroke=\"#000000\" points=\"460.3011,-163.1937 451.613,-157.13 454.6234,-167.2882 460.3011,-163.1937\"/>\n</g>\n<!-- 20 -->\n<g id=\"node14\" class=\"node\">\n<title>20</title>\n<polygon fill=\"none\" stroke=\"#000000\" points=\"636.5,-149.5 511.5,-149.5 511.5,-96.5 636.5,-96.5 636.5,-149.5\"/>\n<text text-anchor=\"middle\" x=\"574\" y=\"-134.3\" font-family=\"Times,serif\" font-size=\"14.00\" fill=\"#000000\">gini = 0.388</text>\n<text text-anchor=\"middle\" x=\"574\" y=\"-119.3\" font-family=\"Times,serif\" font-size=\"14.00\" fill=\"#000000\">samples = 592</text>\n<text text-anchor=\"middle\" x=\"574\" y=\"-104.3\" font-family=\"Times,serif\" font-size=\"14.00\" fill=\"#000000\">value = [436, 156]</text>\n</g>\n<!-- 10&#45;&gt;20 -->\n<g id=\"edge13\" class=\"edge\">\n<title>10&#45;&gt;20</title>\n<path fill=\"none\" stroke=\"#000000\" d=\"M525.5755,-192.9465C533.3537,-181.7113 542.0139,-169.2021 549.8355,-157.9043\"/>\n<polygon fill=\"#000000\" stroke=\"#000000\" points=\"552.8102,-159.7564 555.6247,-149.5422 547.0548,-155.7719 552.8102,-159.7564\"/>\n</g>\n<!-- 27 -->\n<g id=\"node12\" class=\"node\">\n<title>27</title>\n<polygon fill=\"none\" stroke=\"#000000\" points=\"452,-53 320,-53 320,0 452,0 452,-53\"/>\n<text text-anchor=\"middle\" x=\"386\" y=\"-37.8\" font-family=\"Times,serif\" font-size=\"14.00\" fill=\"#000000\">gini = 0.256</text>\n<text text-anchor=\"middle\" x=\"386\" y=\"-22.8\" font-family=\"Times,serif\" font-size=\"14.00\" fill=\"#000000\">samples = 2944</text>\n<text text-anchor=\"middle\" x=\"386\" y=\"-7.8\" font-family=\"Times,serif\" font-size=\"14.00\" fill=\"#000000\">value = [2501, 443]</text>\n</g>\n<!-- 19&#45;&gt;27 -->\n<g id=\"edge11\" class=\"edge\">\n<title>19&#45;&gt;27</title>\n<path fill=\"none\" stroke=\"#000000\" d=\"M412.5449,-88.9777C408.9267,-80.4617 405.0326,-71.2963 401.3717,-62.6798\"/>\n<polygon fill=\"#000000\" stroke=\"#000000\" points=\"404.4964,-61.0836 397.3646,-53.2485 398.0538,-63.8209 404.4964,-61.0836\"/>\n</g>\n<!-- 28 -->\n<g id=\"node13\" class=\"node\">\n<title>28</title>\n<polygon fill=\"none\" stroke=\"#000000\" points=\"580,-53 470,-53 470,0 580,0 580,-53\"/>\n<text text-anchor=\"middle\" x=\"525\" y=\"-37.8\" font-family=\"Times,serif\" font-size=\"14.00\" fill=\"#000000\">gini = 0.457</text>\n<text text-anchor=\"middle\" x=\"525\" y=\"-22.8\" font-family=\"Times,serif\" font-size=\"14.00\" fill=\"#000000\">samples = 99</text>\n<text text-anchor=\"middle\" x=\"525\" y=\"-7.8\" font-family=\"Times,serif\" font-size=\"14.00\" fill=\"#000000\">value = [64, 35]</text>\n</g>\n<!-- 19&#45;&gt;28 -->\n<g id=\"edge12\" class=\"edge\">\n<title>19&#45;&gt;28</title>\n<path fill=\"none\" stroke=\"#000000\" d=\"M461.5511,-88.9777C470.9434,-79.7292 481.1136,-69.7147 490.5029,-60.4691\"/>\n<polygon fill=\"#000000\" stroke=\"#000000\" points=\"493.1661,-62.7587 497.8357,-53.2485 488.2546,-57.7709 493.1661,-62.7587\"/>\n</g>\n<!-- 7 -->\n<g id=\"node16\" class=\"node\">\n<title>7</title>\n<polygon fill=\"none\" stroke=\"#000000\" points=\"936,-261 790,-261 790,-193 936,-193 936,-261\"/>\n<text text-anchor=\"middle\" x=\"863\" y=\"-245.8\" font-family=\"Times,serif\" font-size=\"14.00\" fill=\"#000000\">X[0] &lt;= 65000.0</text>\n<text text-anchor=\"middle\" x=\"863\" y=\"-230.8\" font-family=\"Times,serif\" font-size=\"14.00\" fill=\"#000000\">gini = 0.188</text>\n<text text-anchor=\"middle\" x=\"863\" y=\"-215.8\" font-family=\"Times,serif\" font-size=\"14.00\" fill=\"#000000\">samples = 13309</text>\n<text text-anchor=\"middle\" x=\"863\" y=\"-200.8\" font-family=\"Times,serif\" font-size=\"14.00\" fill=\"#000000\">value = [11912, 1397]</text>\n</g>\n<!-- 6&#45;&gt;7 -->\n<g id=\"edge15\" class=\"edge\">\n<title>6&#45;&gt;7</title>\n<path fill=\"none\" stroke=\"#000000\" d=\"M910.7519,-296.9465C904.745,-288.1475 898.2045,-278.5672 891.9457,-269.3993\"/>\n<polygon fill=\"#000000\" stroke=\"#000000\" points=\"894.8293,-267.4155 886.3003,-261.13 889.048,-271.3623 894.8293,-267.4155\"/>\n</g>\n<!-- 8 -->\n<g id=\"node21\" class=\"node\">\n<title>8</title>\n<polygon fill=\"none\" stroke=\"#000000\" points=\"1079.5,-261 954.5,-261 954.5,-193 1079.5,-193 1079.5,-261\"/>\n<text text-anchor=\"middle\" x=\"1017\" y=\"-245.8\" font-family=\"Times,serif\" font-size=\"14.00\" fill=\"#000000\">X[7] &lt;= 0.5</text>\n<text text-anchor=\"middle\" x=\"1017\" y=\"-230.8\" font-family=\"Times,serif\" font-size=\"14.00\" fill=\"#000000\">gini = 0.427</text>\n<text text-anchor=\"middle\" x=\"1017\" y=\"-215.8\" font-family=\"Times,serif\" font-size=\"14.00\" fill=\"#000000\">samples = 563</text>\n<text text-anchor=\"middle\" x=\"1017\" y=\"-200.8\" font-family=\"Times,serif\" font-size=\"14.00\" fill=\"#000000\">value = [389, 174]</text>\n</g>\n<!-- 6&#45;&gt;8 -->\n<g id=\"edge20\" class=\"edge\">\n<title>6&#45;&gt;8</title>\n<path fill=\"none\" stroke=\"#000000\" d=\"M961.1773,-296.9465C968.2712,-288.0578 976.0015,-278.3716 983.386,-269.1188\"/>\n<polygon fill=\"#000000\" stroke=\"#000000\" points=\"986.2594,-271.1293 989.7616,-261.13 980.7882,-266.7628 986.2594,-271.1293\"/>\n</g>\n<!-- 11 -->\n<g id=\"node17\" class=\"node\">\n<title>11</title>\n<polygon fill=\"none\" stroke=\"#000000\" points=\"787,-149.5 655,-149.5 655,-96.5 787,-96.5 787,-149.5\"/>\n<text text-anchor=\"middle\" x=\"721\" y=\"-134.3\" font-family=\"Times,serif\" font-size=\"14.00\" fill=\"#000000\">gini = 0.268</text>\n<text text-anchor=\"middle\" x=\"721\" y=\"-119.3\" font-family=\"Times,serif\" font-size=\"14.00\" fill=\"#000000\">samples = 2842</text>\n<text text-anchor=\"middle\" x=\"721\" y=\"-104.3\" font-family=\"Times,serif\" font-size=\"14.00\" fill=\"#000000\">value = [2388, 454]</text>\n</g>\n<!-- 7&#45;&gt;11 -->\n<g id=\"edge16\" class=\"edge\">\n<title>7&#45;&gt;11</title>\n<path fill=\"none\" stroke=\"#000000\" d=\"M816.5039,-192.9465C800.1107,-180.9403 781.7311,-167.4791 765.5064,-155.5962\"/>\n<polygon fill=\"#000000\" stroke=\"#000000\" points=\"767.376,-152.6272 757.2403,-149.5422 763.2399,-158.2746 767.376,-152.6272\"/>\n</g>\n<!-- 12 -->\n<g id=\"node18\" class=\"node\">\n<title>12</title>\n<polygon fill=\"none\" stroke=\"#000000\" points=\"937,-157 805,-157 805,-89 937,-89 937,-157\"/>\n<text text-anchor=\"middle\" x=\"871\" y=\"-141.8\" font-family=\"Times,serif\" font-size=\"14.00\" fill=\"#000000\">X[11] &lt;= 2088.5</text>\n<text text-anchor=\"middle\" x=\"871\" y=\"-126.8\" font-family=\"Times,serif\" font-size=\"14.00\" fill=\"#000000\">gini = 0.164</text>\n<text text-anchor=\"middle\" x=\"871\" y=\"-111.8\" font-family=\"Times,serif\" font-size=\"14.00\" fill=\"#000000\">samples = 10467</text>\n<text text-anchor=\"middle\" x=\"871\" y=\"-96.8\" font-family=\"Times,serif\" font-size=\"14.00\" fill=\"#000000\">value = [9524, 943]</text>\n</g>\n<!-- 7&#45;&gt;12 -->\n<g id=\"edge17\" class=\"edge\">\n<title>7&#45;&gt;12</title>\n<path fill=\"none\" stroke=\"#000000\" d=\"M865.6195,-192.9465C866.248,-184.776 866.9283,-175.9318 867.5869,-167.3697\"/>\n<polygon fill=\"#000000\" stroke=\"#000000\" points=\"871.0973,-167.369 868.3746,-157.13 864.1179,-166.8321 871.0973,-167.369\"/>\n</g>\n<!-- 31 -->\n<g id=\"node19\" class=\"node\">\n<title>31</title>\n<polygon fill=\"none\" stroke=\"#000000\" points=\"789,-53 657,-53 657,0 789,0 789,-53\"/>\n<text text-anchor=\"middle\" x=\"723\" y=\"-37.8\" font-family=\"Times,serif\" font-size=\"14.00\" fill=\"#000000\">gini = 0.236</text>\n<text text-anchor=\"middle\" x=\"723\" y=\"-22.8\" font-family=\"Times,serif\" font-size=\"14.00\" fill=\"#000000\">samples = 1396</text>\n<text text-anchor=\"middle\" x=\"723\" y=\"-7.8\" font-family=\"Times,serif\" font-size=\"14.00\" fill=\"#000000\">value = [1205, 191]</text>\n</g>\n<!-- 12&#45;&gt;31 -->\n<g id=\"edge18\" class=\"edge\">\n<title>12&#45;&gt;31</title>\n<path fill=\"none\" stroke=\"#000000\" d=\"M818.8207,-88.9777C803.7938,-79.1798 787.4485,-68.5222 772.5836,-58.8298\"/>\n<polygon fill=\"#000000\" stroke=\"#000000\" points=\"774.3119,-55.7785 764.0236,-53.2485 770.4886,-61.6422 774.3119,-55.7785\"/>\n</g>\n<!-- 32 -->\n<g id=\"node20\" class=\"node\">\n<title>32</title>\n<polygon fill=\"none\" stroke=\"#000000\" points=\"939,-53 807,-53 807,0 939,0 939,-53\"/>\n<text text-anchor=\"middle\" x=\"873\" y=\"-37.8\" font-family=\"Times,serif\" font-size=\"14.00\" fill=\"#000000\">gini = 0.152</text>\n<text text-anchor=\"middle\" x=\"873\" y=\"-22.8\" font-family=\"Times,serif\" font-size=\"14.00\" fill=\"#000000\">samples = 9071</text>\n<text text-anchor=\"middle\" x=\"873\" y=\"-7.8\" font-family=\"Times,serif\" font-size=\"14.00\" fill=\"#000000\">value = [8319, 752]</text>\n</g>\n<!-- 12&#45;&gt;32 -->\n<g id=\"edge19\" class=\"edge\">\n<title>12&#45;&gt;32</title>\n<path fill=\"none\" stroke=\"#000000\" d=\"M871.7051,-88.9777C871.8759,-80.7364 872.0593,-71.887 872.2328,-63.5153\"/>\n<polygon fill=\"#000000\" stroke=\"#000000\" points=\"875.7376,-63.3189 872.4456,-53.2485 868.7391,-63.1738 875.7376,-63.3189\"/>\n</g>\n<!-- 17 -->\n<g id=\"node22\" class=\"node\">\n<title>17</title>\n<polygon fill=\"none\" stroke=\"#000000\" points=\"1079,-157 955,-157 955,-89 1079,-89 1079,-157\"/>\n<text text-anchor=\"middle\" x=\"1017\" y=\"-141.8\" font-family=\"Times,serif\" font-size=\"14.00\" fill=\"#000000\">X[0] &lt;= 25000.0</text>\n<text text-anchor=\"middle\" x=\"1017\" y=\"-126.8\" font-family=\"Times,serif\" font-size=\"14.00\" fill=\"#000000\">gini = 0.37</text>\n<text text-anchor=\"middle\" x=\"1017\" y=\"-111.8\" font-family=\"Times,serif\" font-size=\"14.00\" fill=\"#000000\">samples = 412</text>\n<text text-anchor=\"middle\" x=\"1017\" y=\"-96.8\" font-family=\"Times,serif\" font-size=\"14.00\" fill=\"#000000\">value = [311, 101]</text>\n</g>\n<!-- 8&#45;&gt;17 -->\n<g id=\"edge21\" class=\"edge\">\n<title>8&#45;&gt;17</title>\n<path fill=\"none\" stroke=\"#000000\" d=\"M1017,-192.9465C1017,-184.776 1017,-175.9318 1017,-167.3697\"/>\n<polygon fill=\"#000000\" stroke=\"#000000\" points=\"1020.5001,-167.13 1017,-157.13 1013.5001,-167.13 1020.5001,-167.13\"/>\n</g>\n<!-- 18 -->\n<g id=\"node25\" class=\"node\">\n<title>18</title>\n<polygon fill=\"none\" stroke=\"#000000\" points=\"1207,-149.5 1097,-149.5 1097,-96.5 1207,-96.5 1207,-149.5\"/>\n<text text-anchor=\"middle\" x=\"1152\" y=\"-134.3\" font-family=\"Times,serif\" font-size=\"14.00\" fill=\"#000000\">gini = 0.499</text>\n<text text-anchor=\"middle\" x=\"1152\" y=\"-119.3\" font-family=\"Times,serif\" font-size=\"14.00\" fill=\"#000000\">samples = 151</text>\n<text text-anchor=\"middle\" x=\"1152\" y=\"-104.3\" font-family=\"Times,serif\" font-size=\"14.00\" fill=\"#000000\">value = [78, 73]</text>\n</g>\n<!-- 8&#45;&gt;18 -->\n<g id=\"edge24\" class=\"edge\">\n<title>8&#45;&gt;18</title>\n<path fill=\"none\" stroke=\"#000000\" d=\"M1061.204,-192.9465C1076.6461,-181.0504 1093.9422,-167.726 1109.2625,-155.9237\"/>\n<polygon fill=\"#000000\" stroke=\"#000000\" points=\"1111.7603,-158.4176 1117.5462,-149.5422 1107.4883,-152.8723 1111.7603,-158.4176\"/>\n</g>\n<!-- 37 -->\n<g id=\"node23\" class=\"node\">\n<title>37</title>\n<polygon fill=\"none\" stroke=\"#000000\" points=\"1070,-53 960,-53 960,0 1070,0 1070,-53\"/>\n<text text-anchor=\"middle\" x=\"1015\" y=\"-37.8\" font-family=\"Times,serif\" font-size=\"14.00\" fill=\"#000000\">gini = 0.5</text>\n<text text-anchor=\"middle\" x=\"1015\" y=\"-22.8\" font-family=\"Times,serif\" font-size=\"14.00\" fill=\"#000000\">samples = 40</text>\n<text text-anchor=\"middle\" x=\"1015\" y=\"-7.8\" font-family=\"Times,serif\" font-size=\"14.00\" fill=\"#000000\">value = [20, 20]</text>\n</g>\n<!-- 17&#45;&gt;37 -->\n<g id=\"edge22\" class=\"edge\">\n<title>17&#45;&gt;37</title>\n<path fill=\"none\" stroke=\"#000000\" d=\"M1016.2949,-88.9777C1016.1241,-80.7364 1015.9407,-71.887 1015.7672,-63.5153\"/>\n<polygon fill=\"#000000\" stroke=\"#000000\" points=\"1019.2609,-63.1738 1015.5544,-53.2485 1012.2624,-63.3189 1019.2609,-63.1738\"/>\n</g>\n<!-- 38 -->\n<g id=\"node24\" class=\"node\">\n<title>38</title>\n<polygon fill=\"none\" stroke=\"#000000\" points=\"1205.5,-53 1088.5,-53 1088.5,0 1205.5,0 1205.5,-53\"/>\n<text text-anchor=\"middle\" x=\"1147\" y=\"-37.8\" font-family=\"Times,serif\" font-size=\"14.00\" fill=\"#000000\">gini = 0.341</text>\n<text text-anchor=\"middle\" x=\"1147\" y=\"-22.8\" font-family=\"Times,serif\" font-size=\"14.00\" fill=\"#000000\">samples = 372</text>\n<text text-anchor=\"middle\" x=\"1147\" y=\"-7.8\" font-family=\"Times,serif\" font-size=\"14.00\" fill=\"#000000\">value = [291, 81]</text>\n</g>\n<!-- 17&#45;&gt;38 -->\n<g id=\"edge23\" class=\"edge\">\n<title>17&#45;&gt;38</title>\n<path fill=\"none\" stroke=\"#000000\" d=\"M1062.8331,-88.9777C1075.7857,-79.3629 1089.8535,-68.9203 1102.7133,-59.3743\"/>\n<polygon fill=\"#000000\" stroke=\"#000000\" points=\"1105.0224,-62.0193 1110.9658,-53.2485 1100.8501,-56.3986 1105.0224,-62.0193\"/>\n</g>\n<!-- 15 -->\n<g id=\"node27\" class=\"node\">\n<title>15</title>\n<polygon fill=\"none\" stroke=\"#000000\" points=\"1222.5,-365 1097.5,-365 1097.5,-297 1222.5,-297 1222.5,-365\"/>\n<text text-anchor=\"middle\" x=\"1160\" y=\"-349.8\" font-family=\"Times,serif\" font-size=\"14.00\" fill=\"#000000\">X[0] &lt;= 165000.0</text>\n<text text-anchor=\"middle\" x=\"1160\" y=\"-334.8\" font-family=\"Times,serif\" font-size=\"14.00\" fill=\"#000000\">gini = 0.467</text>\n<text text-anchor=\"middle\" x=\"1160\" y=\"-319.8\" font-family=\"Times,serif\" font-size=\"14.00\" fill=\"#000000\">samples = 1278</text>\n<text text-anchor=\"middle\" x=\"1160\" y=\"-304.8\" font-family=\"Times,serif\" font-size=\"14.00\" fill=\"#000000\">value = [804, 474]</text>\n</g>\n<!-- 4&#45;&gt;15 -->\n<g id=\"edge26\" class=\"edge\">\n<title>4&#45;&gt;15</title>\n<path fill=\"none\" stroke=\"#000000\" d=\"M1200.3538,-400.9465C1195.381,-392.3271 1189.9757,-382.9579 1184.7852,-373.9611\"/>\n<polygon fill=\"#000000\" stroke=\"#000000\" points=\"1187.7193,-372.0428 1179.6904,-365.13 1181.656,-375.5409 1187.7193,-372.0428\"/>\n</g>\n<!-- 16 -->\n<g id=\"node30\" class=\"node\">\n<title>16</title>\n<polygon fill=\"none\" stroke=\"#000000\" points=\"1365.5,-357.5 1240.5,-357.5 1240.5,-304.5 1365.5,-304.5 1365.5,-357.5\"/>\n<text text-anchor=\"middle\" x=\"1303\" y=\"-342.3\" font-family=\"Times,serif\" font-size=\"14.00\" fill=\"#000000\">gini = 0.499</text>\n<text text-anchor=\"middle\" x=\"1303\" y=\"-327.3\" font-family=\"Times,serif\" font-size=\"14.00\" fill=\"#000000\">samples = 533</text>\n<text text-anchor=\"middle\" x=\"1303\" y=\"-312.3\" font-family=\"Times,serif\" font-size=\"14.00\" fill=\"#000000\">value = [252, 281]</text>\n</g>\n<!-- 4&#45;&gt;16 -->\n<g id=\"edge29\" class=\"edge\">\n<title>4&#45;&gt;16</title>\n<path fill=\"none\" stroke=\"#000000\" d=\"M1247.1773,-400.9465C1256.2318,-389.6012 1266.323,-376.9567 1275.4086,-365.5724\"/>\n<polygon fill=\"#000000\" stroke=\"#000000\" points=\"1278.3151,-367.5414 1281.8173,-357.5422 1272.8439,-363.175 1278.3151,-367.5414\"/>\n</g>\n<!-- 29 -->\n<g id=\"node28\" class=\"node\">\n<title>29</title>\n<polygon fill=\"none\" stroke=\"#000000\" points=\"1222.5,-253.5 1097.5,-253.5 1097.5,-200.5 1222.5,-200.5 1222.5,-253.5\"/>\n<text text-anchor=\"middle\" x=\"1160\" y=\"-238.3\" font-family=\"Times,serif\" font-size=\"14.00\" fill=\"#000000\">gini = 0.481</text>\n<text text-anchor=\"middle\" x=\"1160\" y=\"-223.3\" font-family=\"Times,serif\" font-size=\"14.00\" fill=\"#000000\">samples = 967</text>\n<text text-anchor=\"middle\" x=\"1160\" y=\"-208.3\" font-family=\"Times,serif\" font-size=\"14.00\" fill=\"#000000\">value = [578, 389]</text>\n</g>\n<!-- 15&#45;&gt;29 -->\n<g id=\"edge27\" class=\"edge\">\n<title>15&#45;&gt;29</title>\n<path fill=\"none\" stroke=\"#000000\" d=\"M1160,-296.9465C1160,-286.2621 1160,-274.4254 1160,-263.5742\"/>\n<polygon fill=\"#000000\" stroke=\"#000000\" points=\"1163.5001,-263.5421 1160,-253.5422 1156.5001,-263.5422 1163.5001,-263.5421\"/>\n</g>\n<!-- 30 -->\n<g id=\"node29\" class=\"node\">\n<title>30</title>\n<polygon fill=\"none\" stroke=\"#000000\" points=\"1357.5,-253.5 1240.5,-253.5 1240.5,-200.5 1357.5,-200.5 1357.5,-253.5\"/>\n<text text-anchor=\"middle\" x=\"1299\" y=\"-238.3\" font-family=\"Times,serif\" font-size=\"14.00\" fill=\"#000000\">gini = 0.397</text>\n<text text-anchor=\"middle\" x=\"1299\" y=\"-223.3\" font-family=\"Times,serif\" font-size=\"14.00\" fill=\"#000000\">samples = 311</text>\n<text text-anchor=\"middle\" x=\"1299\" y=\"-208.3\" font-family=\"Times,serif\" font-size=\"14.00\" fill=\"#000000\">value = [226, 85]</text>\n</g>\n<!-- 15&#45;&gt;30 -->\n<g id=\"edge28\" class=\"edge\">\n<title>15&#45;&gt;30</title>\n<path fill=\"none\" stroke=\"#000000\" d=\"M1205.5138,-296.9465C1221.5606,-284.9403 1239.5519,-271.4791 1255.4339,-259.5962\"/>\n<polygon fill=\"#000000\" stroke=\"#000000\" points=\"1257.6152,-262.3354 1263.5254,-253.5422 1253.4217,-256.7306 1257.6152,-262.3354\"/>\n</g>\n<!-- 13 -->\n<g id=\"node32\" class=\"node\">\n<title>13</title>\n<polygon fill=\"none\" stroke=\"#000000\" points=\"1556,-469 1446,-469 1446,-401 1556,-401 1556,-469\"/>\n<text text-anchor=\"middle\" x=\"1501\" y=\"-453.8\" font-family=\"Times,serif\" font-size=\"14.00\" fill=\"#000000\">X[11] &lt;= 829.5</text>\n<text text-anchor=\"middle\" x=\"1501\" y=\"-438.8\" font-family=\"Times,serif\" font-size=\"14.00\" fill=\"#000000\">gini = 0.493</text>\n<text text-anchor=\"middle\" x=\"1501\" y=\"-423.8\" font-family=\"Times,serif\" font-size=\"14.00\" fill=\"#000000\">samples = 154</text>\n<text text-anchor=\"middle\" x=\"1501\" y=\"-408.8\" font-family=\"Times,serif\" font-size=\"14.00\" fill=\"#000000\">value = [86, 68]</text>\n</g>\n<!-- 2&#45;&gt;13 -->\n<g id=\"edge31\" class=\"edge\">\n<title>2&#45;&gt;13</title>\n<path fill=\"none\" stroke=\"#000000\" d=\"M1501,-504.9465C1501,-496.776 1501,-487.9318 1501,-479.3697\"/>\n<polygon fill=\"#000000\" stroke=\"#000000\" points=\"1504.5001,-479.13 1501,-469.13 1497.5001,-479.13 1504.5001,-479.13\"/>\n</g>\n<!-- 14 -->\n<g id=\"node35\" class=\"node\">\n<title>14</title>\n<polygon fill=\"none\" stroke=\"#000000\" points=\"1769,-469 1637,-469 1637,-401 1769,-401 1769,-469\"/>\n<text text-anchor=\"middle\" x=\"1703\" y=\"-453.8\" font-family=\"Times,serif\" font-size=\"14.00\" fill=\"#000000\">X[10] &lt;= 1.0</text>\n<text text-anchor=\"middle\" x=\"1703\" y=\"-438.8\" font-family=\"Times,serif\" font-size=\"14.00\" fill=\"#000000\">gini = 0.409</text>\n<text text-anchor=\"middle\" x=\"1703\" y=\"-423.8\" font-family=\"Times,serif\" font-size=\"14.00\" fill=\"#000000\">samples = 2356</text>\n<text text-anchor=\"middle\" x=\"1703\" y=\"-408.8\" font-family=\"Times,serif\" font-size=\"14.00\" fill=\"#000000\">value = [676, 1680]</text>\n</g>\n<!-- 2&#45;&gt;14 -->\n<g id=\"edge34\" class=\"edge\">\n<title>2&#45;&gt;14</title>\n<path fill=\"none\" stroke=\"#000000\" d=\"M1567.1424,-504.9465C1586.4997,-494.9803 1607.8042,-484.0117 1627.6862,-473.7754\"/>\n<polygon fill=\"#000000\" stroke=\"#000000\" points=\"1629.4203,-476.8193 1636.709,-469.13 1626.2161,-470.5957 1629.4203,-476.8193\"/>\n</g>\n<!-- 35 -->\n<g id=\"node33\" class=\"node\">\n<title>35</title>\n<polygon fill=\"none\" stroke=\"#000000\" points=\"1494,-357.5 1384,-357.5 1384,-304.5 1494,-304.5 1494,-357.5\"/>\n<text text-anchor=\"middle\" x=\"1439\" y=\"-342.3\" font-family=\"Times,serif\" font-size=\"14.00\" fill=\"#000000\">gini = 0.383</text>\n<text text-anchor=\"middle\" x=\"1439\" y=\"-327.3\" font-family=\"Times,serif\" font-size=\"14.00\" fill=\"#000000\">samples = 58</text>\n<text text-anchor=\"middle\" x=\"1439\" y=\"-312.3\" font-family=\"Times,serif\" font-size=\"14.00\" fill=\"#000000\">value = [43, 15]</text>\n</g>\n<!-- 13&#45;&gt;35 -->\n<g id=\"edge32\" class=\"edge\">\n<title>13&#45;&gt;35</title>\n<path fill=\"none\" stroke=\"#000000\" d=\"M1480.6989,-400.9465C1474.0666,-389.8215 1466.6897,-377.4473 1460.0067,-366.237\"/>\n<polygon fill=\"#000000\" stroke=\"#000000\" points=\"1462.9502,-364.3394 1454.8232,-357.5422 1456.9376,-367.9239 1462.9502,-364.3394\"/>\n</g>\n<!-- 36 -->\n<g id=\"node34\" class=\"node\">\n<title>36</title>\n<polygon fill=\"none\" stroke=\"#000000\" points=\"1622,-357.5 1512,-357.5 1512,-304.5 1622,-304.5 1622,-357.5\"/>\n<text text-anchor=\"middle\" x=\"1567\" y=\"-342.3\" font-family=\"Times,serif\" font-size=\"14.00\" fill=\"#000000\">gini = 0.495</text>\n<text text-anchor=\"middle\" x=\"1567\" y=\"-327.3\" font-family=\"Times,serif\" font-size=\"14.00\" fill=\"#000000\">samples = 96</text>\n<text text-anchor=\"middle\" x=\"1567\" y=\"-312.3\" font-family=\"Times,serif\" font-size=\"14.00\" fill=\"#000000\">value = [43, 53]</text>\n</g>\n<!-- 13&#45;&gt;36 -->\n<g id=\"edge33\" class=\"edge\">\n<title>13&#45;&gt;36</title>\n<path fill=\"none\" stroke=\"#000000\" d=\"M1522.6109,-400.9465C1529.671,-389.8215 1537.5239,-377.4473 1544.6381,-366.237\"/>\n<polygon fill=\"#000000\" stroke=\"#000000\" points=\"1547.7528,-367.8609 1550.1559,-357.5422 1541.8425,-364.1101 1547.7528,-367.8609\"/>\n</g>\n<!-- 21 -->\n<g id=\"node36\" class=\"node\">\n<title>21</title>\n<polygon fill=\"none\" stroke=\"#000000\" points=\"1765.5,-357.5 1640.5,-357.5 1640.5,-304.5 1765.5,-304.5 1765.5,-357.5\"/>\n<text text-anchor=\"middle\" x=\"1703\" y=\"-342.3\" font-family=\"Times,serif\" font-size=\"14.00\" fill=\"#000000\">gini = 0.44</text>\n<text text-anchor=\"middle\" x=\"1703\" y=\"-327.3\" font-family=\"Times,serif\" font-size=\"14.00\" fill=\"#000000\">samples = 1330</text>\n<text text-anchor=\"middle\" x=\"1703\" y=\"-312.3\" font-family=\"Times,serif\" font-size=\"14.00\" fill=\"#000000\">value = [435, 895]</text>\n</g>\n<!-- 14&#45;&gt;21 -->\n<g id=\"edge35\" class=\"edge\">\n<title>14&#45;&gt;21</title>\n<path fill=\"none\" stroke=\"#000000\" d=\"M1703,-400.9465C1703,-390.2621 1703,-378.4254 1703,-367.5742\"/>\n<polygon fill=\"#000000\" stroke=\"#000000\" points=\"1706.5001,-367.5421 1703,-357.5422 1699.5001,-367.5422 1706.5001,-367.5421\"/>\n</g>\n<!-- 22 -->\n<g id=\"node37\" class=\"node\">\n<title>22</title>\n<polygon fill=\"none\" stroke=\"#000000\" points=\"1908.5,-365 1783.5,-365 1783.5,-297 1908.5,-297 1908.5,-365\"/>\n<text text-anchor=\"middle\" x=\"1846\" y=\"-349.8\" font-family=\"Times,serif\" font-size=\"14.00\" fill=\"#000000\">X[19] &lt;= 12150.0</text>\n<text text-anchor=\"middle\" x=\"1846\" y=\"-334.8\" font-family=\"Times,serif\" font-size=\"14.00\" fill=\"#000000\">gini = 0.359</text>\n<text text-anchor=\"middle\" x=\"1846\" y=\"-319.8\" font-family=\"Times,serif\" font-size=\"14.00\" fill=\"#000000\">samples = 1026</text>\n<text text-anchor=\"middle\" x=\"1846\" y=\"-304.8\" font-family=\"Times,serif\" font-size=\"14.00\" fill=\"#000000\">value = [241, 785]</text>\n</g>\n<!-- 14&#45;&gt;22 -->\n<g id=\"edge36\" class=\"edge\">\n<title>14&#45;&gt;22</title>\n<path fill=\"none\" stroke=\"#000000\" d=\"M1749.8235,-400.9465C1762.9098,-391.4293 1777.253,-380.9978 1790.7759,-371.163\"/>\n<polygon fill=\"#000000\" stroke=\"#000000\" points=\"1793.0425,-373.8423 1799.0713,-365.13 1788.9253,-368.1812 1793.0425,-373.8423\"/>\n</g>\n<!-- 33 -->\n<g id=\"node38\" class=\"node\">\n<title>33</title>\n<polygon fill=\"none\" stroke=\"#000000\" points=\"1840.5,-253.5 1715.5,-253.5 1715.5,-200.5 1840.5,-200.5 1840.5,-253.5\"/>\n<text text-anchor=\"middle\" x=\"1778\" y=\"-238.3\" font-family=\"Times,serif\" font-size=\"14.00\" fill=\"#000000\">gini = 0.35</text>\n<text text-anchor=\"middle\" x=\"1778\" y=\"-223.3\" font-family=\"Times,serif\" font-size=\"14.00\" fill=\"#000000\">samples = 1001</text>\n<text text-anchor=\"middle\" x=\"1778\" y=\"-208.3\" font-family=\"Times,serif\" font-size=\"14.00\" fill=\"#000000\">value = [226, 775]</text>\n</g>\n<!-- 22&#45;&gt;33 -->\n<g id=\"edge37\" class=\"edge\">\n<title>22&#45;&gt;33</title>\n<path fill=\"none\" stroke=\"#000000\" d=\"M1823.7343,-296.9465C1816.4602,-285.8215 1808.3694,-273.4473 1801.0396,-262.237\"/>\n<polygon fill=\"#000000\" stroke=\"#000000\" points=\"1803.7564,-259.9965 1795.3545,-253.5422 1797.8976,-263.8273 1803.7564,-259.9965\"/>\n</g>\n<!-- 34 -->\n<g id=\"node39\" class=\"node\">\n<title>34</title>\n<polygon fill=\"none\" stroke=\"#000000\" points=\"1969,-253.5 1859,-253.5 1859,-200.5 1969,-200.5 1969,-253.5\"/>\n<text text-anchor=\"middle\" x=\"1914\" y=\"-238.3\" font-family=\"Times,serif\" font-size=\"14.00\" fill=\"#000000\">gini = 0.48</text>\n<text text-anchor=\"middle\" x=\"1914\" y=\"-223.3\" font-family=\"Times,serif\" font-size=\"14.00\" fill=\"#000000\">samples = 25</text>\n<text text-anchor=\"middle\" x=\"1914\" y=\"-208.3\" font-family=\"Times,serif\" font-size=\"14.00\" fill=\"#000000\">value = [15, 10]</text>\n</g>\n<!-- 22&#45;&gt;34 -->\n<g id=\"edge38\" class=\"edge\">\n<title>22&#45;&gt;34</title>\n<path fill=\"none\" stroke=\"#000000\" d=\"M1868.2657,-296.9465C1875.5398,-285.8215 1883.6306,-273.4473 1890.9604,-262.237\"/>\n<polygon fill=\"#000000\" stroke=\"#000000\" points=\"1894.1024,-263.8273 1896.6455,-253.5422 1888.2436,-259.9965 1894.1024,-263.8273\"/>\n</g>\n</g>\n</svg>\n"
          },
          "metadata": {
            "tags": []
          },
          "execution_count": 19
        }
      ]
    },
    {
      "cell_type": "code",
      "metadata": {
        "id": "-TwFoNffS0fc",
        "colab": {
          "base_uri": "https://localhost:8080/",
          "height": 296
        },
        "outputId": "db603c96-c7af-46a9-9c59-c2c9b8adea1b"
      },
      "source": [
        "# Feature Importance grqafisch darstellen\n",
        "tmp = pd.DataFrame({'Feature': X_train.columns, 'Feature importance': best_decision_tree.feature_importances_})\n",
        "tmp = tmp.sort_values(by='Feature importance',ascending=False)\n",
        "plt.figure(figsize = (7,4))\n",
        "plt.title('Features importance',fontsize=14)\n",
        "\n",
        "s = sns.barplot(x='Feature',y='Feature importance',data=tmp)\n",
        "\n",
        "plt.show()"
      ],
      "execution_count": null,
      "outputs": [
        {
          "output_type": "display_data",
          "data": {
            "image/png": "[encoded data removed]",
            "text/plain": [
              "<Figure size 504x288 with 1 Axes>"
            ]
          },
          "metadata": {
            "tags": [],
            "needs_background": "light"
          }
        }
      ]
    },
    {
      "cell_type": "markdown",
      "metadata": {
        "id": "A9udJMB1oCBV"
      },
      "source": [
        "#### Begründung für dieses Modell\n",
        "\n",
        "Ein Desicion Tree wurde gewählt, weil dieser eine sehr gute Vorhersage für Klassifikationsprobleme liefert. Außerdem ist die Ausführung anhand des Baumes nachvollziehbar und verständlich. Als Beispiel wurde oben der Baum dargestellt, um dies zu zeigen."
      ]
    },
    {
      "cell_type": "markdown",
      "metadata": {
        "id": "8Vz4FRK_xbeE"
      },
      "source": [
        "### Random Forest Classifier"
      ]
    },
    {
      "cell_type": "code",
      "metadata": {
        "id": "9g1GFOJZyiAG"
      },
      "source": [
        "forest = RandomForestClassifier(random_state = 42, n_jobs = -1, verbose = 8)"
      ],
      "execution_count": null,
      "outputs": []
    },
    {
      "cell_type": "code",
      "metadata": {
        "colab": {
          "base_uri": "https://localhost:8080/"
        },
        "id": "yG6e8jALy9r4",
        "outputId": "f0a0034a-b70e-458d-d112-5e7ee2f3412d"
      },
      "source": [
        "forest.fit(X_train, y_train)"
      ],
      "execution_count": null,
      "outputs": [
        {
          "output_type": "stream",
          "text": [
            "[Parallel(n_jobs=-1)]: Using backend ThreadingBackend with 2 concurrent workers.\n",
            "[Parallel(n_jobs=-1)]: Done   1 tasks      | elapsed:    0.1s\n"
          ],
          "name": "stderr"
        },
        {
          "output_type": "stream",
          "text": [
            "building tree 1 of 100\n",
            "building tree 2 of 100\n",
            "building tree 3 of 100\n",
            "building tree 4 of 100\n",
            "building tree 5 of 100\n",
            "building tree 6 of 100\n",
            "building tree 7 of 100\n",
            "building tree 8 of 100\n",
            "building tree 9 of 100\n",
            "building tree 10 of 100\n",
            "building tree 11 of 100\n",
            "building tree 12 of 100\n",
            "building tree 13 of 100\n",
            "building tree 14 of 100\n",
            "building tree 15 of 100\n",
            "building tree 16 of 100\n"
          ],
          "name": "stdout"
        },
        {
          "output_type": "stream",
          "text": [
            "[Parallel(n_jobs=-1)]: Done  14 tasks      | elapsed:    0.8s\n"
          ],
          "name": "stderr"
        },
        {
          "output_type": "stream",
          "text": [
            "building tree 17 of 100\n",
            "building tree 18 of 100\n",
            "building tree 19 of 100\n",
            "building tree 20 of 100\n",
            "building tree 21 of 100\n",
            "building tree 22 of 100\n",
            "building tree 23 of 100\n",
            "building tree 24 of 100\n",
            "building tree 25 of 100\n",
            "building tree 26 of 100\n",
            "building tree 27 of 100building tree 28 of 100\n",
            "\n",
            "building tree 29 of 100\n",
            "building tree 30 of 100\n",
            "building tree 31 of 100\n",
            "building tree 32 of 100\n",
            "building tree 33 of 100\n",
            "building tree 34 of 100\n",
            "building tree 35 of 100\n",
            "building tree 36 of 100\n",
            "building tree 37 of 100\n",
            "building tree 38 of 100\n",
            "building tree 39 of 100\n",
            "building tree 40 of 100\n"
          ],
          "name": "stdout"
        },
        {
          "output_type": "stream",
          "text": [
            "[Parallel(n_jobs=-1)]: Done  37 tasks      | elapsed:    2.2s\n"
          ],
          "name": "stderr"
        },
        {
          "output_type": "stream",
          "text": [
            "building tree 41 of 100\n",
            "building tree 42 of 100\n",
            "building tree 43 of 100\n",
            "building tree 44 of 100\n",
            "building tree 45 of 100\n",
            "building tree 46 of 100\n",
            "building tree 47 of 100\n",
            "building tree 48 of 100\n",
            "building tree 49 of 100\n",
            "building tree 50 of 100\n",
            "building tree 51 of 100\n",
            "building tree 52 of 100\n",
            "building tree 53 of 100\n",
            "building tree 54 of 100\n",
            "building tree 55 of 100\n",
            "building tree 56 of 100\n",
            "building tree 57 of 100\n",
            "building tree 58 of 100\n",
            "building tree 59 of 100\n",
            "building tree 60 of 100\n",
            "building tree 61 of 100\n",
            "building tree 62 of 100\n",
            "building tree 63 of 100\n",
            "building tree 64 of 100\n",
            "building tree 65 of 100\n",
            "building tree 66 of 100\n",
            "building tree 67 of 100\n",
            "building tree 68 of 100\n",
            "building tree 69 of 100\n",
            "building tree 70 of 100\n",
            "building tree 71 of 100\n",
            "building tree 72 of 100\n",
            "building tree 73 of 100\n"
          ],
          "name": "stdout"
        },
        {
          "output_type": "stream",
          "text": [
            "[Parallel(n_jobs=-1)]: Done  68 tasks      | elapsed:    4.0s\n"
          ],
          "name": "stderr"
        },
        {
          "output_type": "stream",
          "text": [
            "building tree 74 of 100\n",
            "building tree 75 of 100\n",
            "building tree 76 of 100\n",
            "building tree 77 of 100\n",
            "building tree 78 of 100\n",
            "building tree 79 of 100\n",
            "building tree 80 of 100\n",
            "building tree 81 of 100\n",
            "building tree 82 of 100\n",
            "building tree 83 of 100\n",
            "building tree 84 of 100\n",
            "building tree 85 of 100\n",
            "building tree 86 of 100\n",
            "building tree 87 of 100\n",
            "building tree 88 of 100\n",
            "building tree 89 of 100\n",
            "building tree 90 of 100\n",
            "building tree 91 of 100\n",
            "building tree 92 of 100\n",
            "building tree 93 of 100\n",
            "building tree 94 of 100\n",
            "building tree 95 of 100\n",
            "building tree 96 of 100\n",
            "building tree 97 of 100\n",
            "building tree 98 of 100\n",
            "building tree 99 of 100\n",
            "building tree 100 of 100\n"
          ],
          "name": "stdout"
        },
        {
          "output_type": "stream",
          "text": [
            "[Parallel(n_jobs=-1)]: Done 100 out of 100 | elapsed:    5.9s finished\n"
          ],
          "name": "stderr"
        },
        {
          "output_type": "execute_result",
          "data": {
            "text/plain": [
              "RandomForestClassifier(bootstrap=True, ccp_alpha=0.0, class_weight=None,\n",
              "                       criterion='gini', max_depth=None, max_features='auto',\n",
              "                       max_leaf_nodes=None, max_samples=None,\n",
              "                       min_impurity_decrease=0.0, min_impurity_split=None,\n",
              "                       min_samples_leaf=1, min_samples_split=2,\n",
              "                       min_weight_fraction_leaf=0.0, n_estimators=100,\n",
              "                       n_jobs=-1, oob_score=False, random_state=42, verbose=8,\n",
              "                       warm_start=False)"
            ]
          },
          "metadata": {
            "tags": []
          },
          "execution_count": 60
        }
      ]
    },
    {
      "cell_type": "markdown",
      "metadata": {
        "id": "C5L8D2f839YP"
      },
      "source": [
        "#### Begründung des Modells\r\n",
        "Nach guten Ergebnissen des Decision-Trees war der Gedanke ein ähnliches Modell auszuwählen und die Klassifikation mit diesem zu testen."
      ]
    },
    {
      "cell_type": "markdown",
      "metadata": {
        "id": "9oKKcIFtZKTY"
      },
      "source": [
        "## Performanceindikatoren"
      ]
    },
    {
      "cell_type": "markdown",
      "metadata": {
        "id": "_MTC9h7D4qMe"
      },
      "source": [
        "### Lernkurven"
      ]
    },
    {
      "cell_type": "code",
      "metadata": {
        "id": "Hx2qh3s03hHQ",
        "colab": {
          "base_uri": "https://localhost:8080/",
          "height": 297
        },
        "outputId": "ce43a6da-fe39-451e-ea07-6c84e8a6dfa3"
      },
      "source": [
        "train_sizes, train_scores, test_scores = learning_curve(grid_tree.best_estimator_, X_train, y_train, train_sizes=np.linspace(0.01, 1.0, 50), cv = 5)\n",
        "\n",
        "# Mittlere- und Standardabweichung\n",
        "train_mean = np.mean(train_scores, axis=1)\n",
        "train_std = np.std(train_scores, axis=1)\n",
        "test_mean = np.mean(test_scores, axis=1)\n",
        "test_std = np.std(test_scores, axis=1)\n",
        "\n",
        "# Linien zeichnen\n",
        "plt.plot(train_sizes, train_mean, '--', color=\"#111111\",  label=\"Training score\")\n",
        "plt.plot(train_sizes, test_mean, color=\"#111111\", label=\"Cross-validation score\")\n",
        "\n",
        "# Bereiche einzeichnen\n",
        "plt.fill_between(train_sizes, train_mean - train_std, train_mean + train_std, color=\"#DDDDDD\")\n",
        "plt.fill_between(train_sizes, test_mean - test_std, test_mean + test_std, color=\"#DDDDDD\")\n",
        "\n",
        "# Plot erstellen\n",
        "plt.title(\"Lernkurve Decision Tree\")\n",
        "plt.xlabel(\"Trainingssetgröße\"), plt.ylabel(\"Accuracy\"), plt.legend(loc=\"best\")\n",
        "plt.tight_layout()\n",
        "plt.show()"
      ],
      "execution_count": null,
      "outputs": [
        {
          "output_type": "display_data",
          "data": {
            "image/png": "[encoded data removed]",
            "text/plain": [
              "<Figure size 432x288 with 1 Axes>"
            ]
          },
          "metadata": {
            "tags": [],
            "needs_background": "light"
          }
        }
      ]
    },
    {
      "cell_type": "markdown",
      "metadata": {
        "id": "0kv6fXs1pe6F"
      },
      "source": [
        "Aus dieser Kruve lässt sich schließen, dass mehr Daten das Ergebnis der Accuracy nicht verbessern. Weiter ist zu sehen, dass die Kurven sehr nahe zusammen liegen, das bedeutet, dass sich das Modell weder Über- noch Unterangepasst hat"
      ]
    },
    {
      "cell_type": "code",
      "metadata": {
        "colab": {
          "base_uri": "https://localhost:8080/",
          "height": 416
        },
        "id": "OOq_JCpoxtMS",
        "outputId": "ba9b27e8-cf75-4448-8d39-317c8e37f7a8"
      },
      "source": [
        "train_sizes, train_scores, test_scores = learning_curve(forest, X_train, y_train, train_sizes=np.linspace(0.01, 1.0, 5), cv = 2, n_jobs = -1, verbose = 8)\r\n",
        "\r\n",
        "\r\n",
        "# Mittlere- und Standardabweichung\r\n",
        "train_mean = np.mean(train_scores, axis=1)\r\n",
        "train_std = np.std(train_scores, axis=1)\r\n",
        "test_mean = np.mean(test_scores, axis=1)\r\n",
        "test_std = np.std(test_scores, axis=1)\r\n",
        "\r\n",
        "# Linien zeichnen\r\n",
        "plt.plot(train_sizes, train_mean, '--', color=\"#111111\",  label=\"Training score\")\r\n",
        "plt.plot(train_sizes, test_mean, color=\"#111111\", label=\"Cross-validation score\")\r\n",
        "\r\n",
        "# Bereiche einzeichnen\r\n",
        "plt.fill_between(train_sizes, train_mean - train_std, train_mean + train_std, color=\"#DDDDDD\")\r\n",
        "plt.fill_between(train_sizes, test_mean - test_std, test_mean + test_std, color=\"#DDDDDD\")\r\n",
        "\r\n",
        "# Plot erstellen\r\n",
        "plt.title(\"Lernkurve LinearSVC\")\r\n",
        "plt.xlabel(\"Trainingssetgröße\"), plt.ylabel(\"Accuracy\"), plt.legend(loc=\"best\")\r\n",
        "plt.tight_layout()\r\n",
        "plt.show()"
      ],
      "execution_count": null,
      "outputs": [
        {
          "output_type": "stream",
          "text": [
            "[learning_curve] Training set sizes: [  120  3090  6060  9030 12000]\n"
          ],
          "name": "stdout"
        },
        {
          "output_type": "stream",
          "text": [
            "[Parallel(n_jobs=-1)]: Using backend LokyBackend with 2 concurrent workers.\n",
            "[Parallel(n_jobs=-1)]: Done   1 out of  10 | elapsed:    0.6s remaining:    5.7s\n",
            "[Parallel(n_jobs=-1)]: Done   3 out of  10 | elapsed:    3.7s remaining:    8.5s\n",
            "[Parallel(n_jobs=-1)]: Done   5 out of  10 | elapsed:    7.2s remaining:    7.2s\n",
            "[Parallel(n_jobs=-1)]: Done   7 out of  10 | elapsed:    9.1s remaining:    3.9s\n",
            "[Parallel(n_jobs=-1)]: Done  10 out of  10 | elapsed:   15.5s finished\n"
          ],
          "name": "stderr"
        },
        {
          "output_type": "display_data",
          "data": {
            "image/png": "[encoded data removed]",
            "text/plain": [
              "<Figure size 432x288 with 1 Axes>"
            ]
          },
          "metadata": {
            "tags": [],
            "needs_background": "light"
          }
        }
      ]
    },
    {
      "cell_type": "markdown",
      "metadata": {
        "id": "vci4oW5P47xb"
      },
      "source": [
        "Aus der Lernkurve des LinearSVC lässt sich schließen, dass dieser stark overfittet und sich sehr gut an das Trainingsmodell angleicht, jedoch dennoch gute Ergebnisse bei dem Cross-validation-Test erzielt."
      ]
    },
    {
      "cell_type": "markdown",
      "metadata": {
        "id": "5sFWWagM4nzT"
      },
      "source": [
        "### Classification Reports"
      ]
    },
    {
      "cell_type": "code",
      "metadata": {
        "id": "EgNfOKXM-rIA"
      },
      "source": [
        "best_decision_tree.fit(X_train, y_train)\n",
        "y_predict_test = best_decision_tree.predict(X_test)"
      ],
      "execution_count": null,
      "outputs": []
    },
    {
      "cell_type": "code",
      "metadata": {
        "id": "mWBwcf3ERaaZ",
        "colab": {
          "base_uri": "https://localhost:8080/"
        },
        "outputId": "0fb10aa3-0244-4a39-fffd-7c4351703cfa"
      },
      "source": [
        "print(classification_report(y_test, y_predict_test))"
      ],
      "execution_count": null,
      "outputs": [
        {
          "output_type": "stream",
          "text": [
            "              precision    recall  f1-score   support\n",
            "\n",
            "           0       0.84      0.94      0.89      4673\n",
            "           1       0.66      0.38      0.48      1327\n",
            "\n",
            "    accuracy                           0.82      6000\n",
            "   macro avg       0.75      0.66      0.68      6000\n",
            "weighted avg       0.80      0.82      0.80      6000\n",
            "\n"
          ],
          "name": "stdout"
        }
      ]
    },
    {
      "cell_type": "code",
      "metadata": {
        "colab": {
          "base_uri": "https://localhost:8080/"
        },
        "id": "ZahKGR9R3uDM",
        "outputId": "8dde3d72-d571-43b5-9d93-2bda8338c2a8"
      },
      "source": [
        "forest.set_params(verbose = 0)\r\n",
        "forest.fit(X_train, y_train)\r\n",
        "y_predict_test = forest.predict(X_test)\r\n",
        "print(classification_report(y_test, y_predict_test))"
      ],
      "execution_count": null,
      "outputs": [
        {
          "output_type": "stream",
          "text": [
            "              precision    recall  f1-score   support\n",
            "\n",
            "           0       0.84      0.94      0.89      4673\n",
            "           1       0.63      0.36      0.46      1327\n",
            "\n",
            "    accuracy                           0.81      6000\n",
            "   macro avg       0.74      0.65      0.67      6000\n",
            "weighted avg       0.79      0.81      0.79      6000\n",
            "\n"
          ],
          "name": "stdout"
        }
      ]
    },
    {
      "cell_type": "markdown",
      "metadata": {
        "id": "KKhKPX9V4vg-"
      },
      "source": [
        "### Confusion Matrizen"
      ]
    },
    {
      "cell_type": "code",
      "metadata": {
        "id": "29CLTroBDOzo",
        "colab": {
          "base_uri": "https://localhost:8080/",
          "height": 558
        },
        "outputId": "3994e904-dcb5-4593-b1e4-9c0050e89aa4"
      },
      "source": [
        "# Confusionmatrix für DesicionTree erstellen\n",
        "plot_confusion_matrix(best_decision_tree, X_train, y_train, values_format=\"4d\")\n",
        "plot_confusion_matrix(best_decision_tree, X_test, y_test, values_format=\"4d\")"
      ],
      "execution_count": null,
      "outputs": [
        {
          "output_type": "execute_result",
          "data": {
            "text/plain": [
              "<sklearn.metrics._plot.confusion_matrix.ConfusionMatrixDisplay at 0x7fd52b437c50>"
            ]
          },
          "metadata": {
            "tags": []
          },
          "execution_count": 24
        },
        {
          "output_type": "display_data",
          "data": {
            "image/png": "[encoded data removed]",
            "text/plain": [
              "<Figure size 432x288 with 2 Axes>"
            ]
          },
          "metadata": {
            "tags": [],
            "needs_background": "light"
          }
        },
        {
          "output_type": "display_data",
          "data": {
            "image/png": "[encoded data removed]",
            "text/plain": [
              "<Figure size 432x288 with 2 Axes>"
            ]
          },
          "metadata": {
            "tags": [],
            "needs_background": "light"
          }
        }
      ]
    },
    {
      "cell_type": "code",
      "metadata": {
        "colab": {
          "base_uri": "https://localhost:8080/",
          "height": 558
        },
        "id": "GPbOO8EY3y4V",
        "outputId": "452464b3-4c8f-4f69-9794-9d4a0744ef68"
      },
      "source": [
        "# Confusion Matrix für Random Forest Classifier erstellen\r\n",
        "plot_confusion_matrix(forest, X_train, y_train, values_format=\"4d\")\r\n",
        "plot_confusion_matrix(forest, X_test, y_test, values_format=\"4d\")"
      ],
      "execution_count": null,
      "outputs": [
        {
          "output_type": "execute_result",
          "data": {
            "text/plain": [
              "<sklearn.metrics._plot.confusion_matrix.ConfusionMatrixDisplay at 0x7fd528d46f98>"
            ]
          },
          "metadata": {
            "tags": []
          },
          "execution_count": 75
        },
        {
          "output_type": "display_data",
          "data": {
            "image/png": "[encoded data removed]",
            "text/plain": [
              "<Figure size 432x288 with 2 Axes>"
            ]
          },
          "metadata": {
            "tags": [],
            "needs_background": "light"
          }
        },
        {
          "output_type": "display_data",
          "data": {
            "image/png": "[encoded data removed]",
            "text/plain": [
              "<Figure size 432x288 with 2 Axes>"
            ]
          },
          "metadata": {
            "tags": [],
            "needs_background": "light"
          }
        }
      ]
    },
    {
      "cell_type": "markdown",
      "metadata": {
        "id": "ooG0dpspoNEn"
      },
      "source": [
        "### Begründung der Performanceindikatioren\n",
        "\n",
        "Allgemein müssen natürlich Indikatioren betrachtet werden, die für ein Klassifikationsmodell verwendet werden können\n",
        "\n",
        "Lernkurve: Anhand der Lernkruve können Über- bzw. Unteranpassungen gefunden werden. Außerdem lässt sich ablesen, ab welchem Punkt mehr Daten keinen wesentlichen Vorteil mehr bringen, nämlich ab dem Zeitpunkt, zu dem der Accuracy-Score der Trainingsdaten abflacht.\n",
        "\n",
        "Confusionmatrix: Für den gegebenen Datensatz ist es sehr wichtig die Fälle zu erkennen, die \"False Negative\" sind, bei denen es also einen Zahlungsausfall gibt, der nicht vorhergesagt werden konnte. Dieser Wert ist für bspw. Banken relevant und kann mit einer Confusionmatrix leicht identifiziert werden\n",
        "\n",
        "Precision: Gibt an wie genau die \"True-Positives\" vorhergesagt werden. Dieser Wert ist auch wieder für unseren Datensatz wichtig, da bei einem zu geringen Wert, der bspow. Bank Kunden verloren gehen könnten. Ebenfalls aus der Confusionmatrix ablesbar, aber als Zahlenwert leichter zu erklären/interpretieren\n",
        "\n",
        "Recall: Durch diesen Wert wird der prozentuale Wert aller korrekt vorhergesagten postitiven Vorhersagen angegeben. Wie bereits vorher erwähnt, ist es besonders wichtig, die Zahlungsausfälle (\"Postives\") zu erkennen. Dafür ist dieser Wert ebenso ein sinnvoller Perfomanceindikator.\n",
        "\n",
        "F1-Score: Der f1-Score berechnet sich aus der Precision und dem Recall und ist sinnvoll für eine ausgewogene Bewertung von Precision und Recall. Ausßerdem ist er nicht anfällig für sehr viele True-Negatives, so wie es auch in diesem Datensatz der Fall ist.\n",
        "\n",
        "Accuracyscore: Diesen Score haben wir gewählt, weil er sehr leicht zu interpretieren und zu verstehen ist. Er gibt einen guten ersten Eindruck über das Modell. Aber es wurde auch darauf geachtet detailliertere Indikatoren zu verwenden."
      ]
    },
    {
      "cell_type": "markdown",
      "metadata": {
        "id": "ulYF5cDe6DzT"
      },
      "source": [
        "## Fazit\r\n",
        "Abschließend lässt sich sagen, dass beide Modelle ähnlich gute Performances bei der Klassifizierung der Testdaten erzielen, jedoch der Random Forest Classifier bei der Klassifizierung der Trainingsdaten stark overfittet.\r\n",
        "\r\n",
        "Aufgrund der Trainingsgeschwindigkeit und der Verständlichkeit raten wir daher in diesem Fall zum Decision-Tree Classifier. "
      ]
    }
  ]
}